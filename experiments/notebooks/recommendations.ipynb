{
 "cells": [
  {
   "cell_type": "markdown",
   "id": "45439cad",
   "metadata": {},
   "source": [
    "GitHub repository: [recommendation_system_service](https://github.com/GitHub-User228/recommendation_system_service)"
   ]
  },
  {
   "cell_type": "code",
   "execution_count": 2,
   "id": "26d0a313",
   "metadata": {},
   "outputs": [],
   "source": [
    "%load_ext autoreload\n",
    "%autoreload 2"
   ]
  },
  {
   "cell_type": "code",
   "execution_count": 3,
   "id": "662d04e7-1b0b-4e4a-9ddf-4526d7fef119",
   "metadata": {},
   "outputs": [
    {
     "name": "stdout",
     "output_type": "stream",
     "text": [
      "2024-11-10 07:49:22,610 [recsys_experiments] [read_yaml] - INFO: YAML file /home/mle-user/mle_projects/recommendation_system_service/experiments/config/components.yaml has been loaded\n"
     ]
    }
   ],
   "source": [
    "import warnings\n",
    "\n",
    "warnings.filterwarnings(\"ignore\")\n",
    "\n",
    "import seaborn as sns\n",
    "from pathlib import Path\n",
    "import matplotlib.pyplot as plt\n",
    "\n",
    "sns.set_style(\"dark\")\n",
    "sns.set_theme(style=\"darkgrid\", palette=\"deep\")\n",
    "\n",
    "from scripts.utils import get_runs_data, read_yaml\n",
    "from scripts.components.preprocessing import PreprocessingComponent\n",
    "from scripts.components.eda import EDAComponent\n",
    "from scripts.components.features_generator import FeaturesGeneratorComponent\n",
    "from scripts.components.matrix_builder import MatrixBuilderComponent\n",
    "from scripts.components.als import ALSModelComponent\n",
    "from scripts.components.bpr import BPRModelComponent\n",
    "from scripts.components.item2item import Item2ItemModelComponent\n",
    "from scripts.components.top_items import TopItemsModelComponent\n",
    "from scripts.components.ensemble import EnsembleModelComponent"
   ]
  },
  {
   "cell_type": "markdown",
   "id": "bf80fbc5-b660-4fac-8fbb-a5cae77313b3",
   "metadata": {},
   "source": [
    "# <p style=\"color: #33FF33; text-align:center;\"> STAGE I. Data preprocessing</p>"
   ]
  },
  {
   "cell_type": "markdown",
   "metadata": {},
   "source": [
    "## <p style=\"color: #999900;\"> 1. Preparations </p>"
   ]
  },
  {
   "cell_type": "markdown",
   "id": "308d1037",
   "metadata": {},
   "source": [
    "This section must be done separately\n",
    "(so the jupyter session must be restarted after execution)\n",
    "\n",
    "The code below casts `started_at`'s type from `datetime` to `date` using `pyarrow`.\n",
    "This is necessary because otherwise `pyspark` will not be able to read the corresponding dataframe"
   ]
  },
  {
   "cell_type": "code",
   "execution_count": 3,
   "id": "50d4def1",
   "metadata": {},
   "outputs": [],
   "source": [
    "# import pyarrow as pa\n",
    "# import pyarrow.compute as pc\n",
    "\n",
    "# df = pq.read_table(Path(env_vars.artifacts_dir, 'interactions_old.parquet'))\n",
    "# df = df.drop_columns('__index_level_0__')\n",
    "\n",
    "# date_column = pc.cast(df['started_at'], pa.date32())\n",
    "\n",
    "# df = df.set_column(\n",
    "#     df.schema.get_field_index('started_at'),\n",
    "#     'started_at',\n",
    "#     date_column\n",
    "# )\n",
    "\n",
    "# pq.write_table(df, Path(env_vars.artifacts_dir, 'interactions.parquet'))"
   ]
  },
  {
   "cell_type": "markdown",
   "id": "45df41e9",
   "metadata": {},
   "source": [
    "## <p style=\"color: #999900;\"> 2. Data preprocessing </p>"
   ]
  },
  {
   "cell_type": "code",
   "execution_count": 4,
   "id": "0bb08fd4",
   "metadata": {},
   "outputs": [
    {
     "name": "stdout",
     "output_type": "stream",
     "text": [
      "2024-11-10 07:49:23,134 [recsys_experiments] [read_yaml] - INFO: YAML file /home/mle-user/mle_projects/recommendation_system_service/experiments/config/spark_config.yaml has been loaded\n"
     ]
    },
    {
     "name": "stderr",
     "output_type": "stream",
     "text": [
      "24/11/10 07:49:25 WARN Utils: Your hostname, epd8p8viml4bs7ctd2uc resolves to a loopback address: 127.0.1.1; using 10.129.0.85 instead (on interface eth0)\n",
      "24/11/10 07:49:25 WARN Utils: Set SPARK_LOCAL_IP if you need to bind to another address\n",
      "Setting default log level to \"WARN\".\n",
      "To adjust logging level use sc.setLogLevel(newLevel). For SparkR, use setLogLevel(newLevel).\n",
      "24/11/10 07:49:26 WARN NativeCodeLoader: Unable to load native-hadoop library for your platform... using builtin-java classes where applicable\n"
     ]
    }
   ],
   "source": [
    "preprocessor = PreprocessingComponent(print_info=True)"
   ]
  },
  {
   "cell_type": "markdown",
   "id": "468577a7",
   "metadata": {},
   "source": [
    "### <p style=\"color: #FFB266;\"> 2.1. catalog_names </p>"
   ]
  },
  {
   "cell_type": "code",
   "execution_count": 6,
   "id": "5c0d6d96",
   "metadata": {},
   "outputs": [
    {
     "name": "stdout",
     "output_type": "stream",
     "text": [
      "2024-11-09 16:04:03,134 [recsys_experiments] [read_parquet] - INFO: Read catalog_names.parquet from /home/mle-user/mle_projects/recommendation_system_service/experiments/artifacts.\n",
      "----- catalog_names dataframe info -----\n",
      "\n",
      "-- info --\n",
      "<class 'pandas.core.frame.DataFrame'>\n",
      "RangeIndex: 1812471 entries, 0 to 1812470\n",
      "Data columns (total 3 columns):\n",
      " #   Column  Dtype \n",
      "---  ------  ----- \n",
      " 0   id      uint32\n",
      " 1   type    object\n",
      " 2   name    object\n",
      "dtypes: object(2), uint32(1)\n",
      "memory usage: 34.6+ MB\n",
      "None\n",
      "\n",
      "-- sample --\n",
      "|    |   id | type   | name              |\n",
      "|---:|-----:|:-------|:------------------|\n",
      "|  0 |    3 | album  | Taller Children   |\n",
      "|  1 |   12 | album  | Wild Young Hearts |\n",
      "|  2 |   13 | album  | Lonesome Crow     |\n",
      "|  3 |   17 | album  | Graffiti Soul     |\n",
      "|  4 |   26 | album  | Blues Six Pack    |\n",
      "\n",
      "-- missing data count --\n",
      "|      |   0 |\n",
      "|:-----|----:|\n",
      "| id   |   0 |\n",
      "| type |   0 |\n",
      "| name |   0 |\n",
      "\n",
      "-- duplicates count --\n",
      "along ('id', 'type'): 0 (0.0%)\n",
      "along \"name\" for \"type\" album: 218108 (33.11%)\n",
      "along \"name\" for \"type\" artist: 2385 (1.55%)\n",
      "along \"name\" for \"type\" genre: 0 (0.0%)\n",
      "along \"name\" for \"type\" track: 469276 (46.93%)\n",
      "\n",
      "\n",
      "-- `None-like` values count -- \n",
      "|                    |   id |\n",
      "|:-------------------|-----:|\n",
      "| ('album', 'None')  |    3 |\n",
      "| ('album', 'none')  |    1 |\n",
      "| ('artist', 'NONE') |    1 |\n",
      "| ('artist', 'None') |    1 |\n",
      "| ('track', 'None')  |    2 |\n",
      "| ('track', 'none')  |    1 |\n",
      "\n",
      "2024-11-09 16:04:05,718 [recsys_experiments] [save_parquet] - INFO: Saved track_names.parquet to /home/mle-user/mle_projects/recommendation_system_service/experiments/artifacts/preprocessing.\n",
      "\n",
      "----- item_names dataframe info -----\n",
      "|         |     track_id |\n",
      "|:--------|-------------:|\n",
      "| min     | 26           |\n",
      "| max     |  1.01522e+08 |\n",
      "| nunique |  1e+06       |\n",
      "\n",
      "2024-11-09 16:04:06,042 [recsys_experiments] [save_parquet] - INFO: Saved album_names.parquet to /home/mle-user/mle_projects/recommendation_system_service/experiments/artifacts/preprocessing.\n",
      "\n",
      "----- album_names dataframe info -----\n",
      "|         |         album_id |\n",
      "|:--------|-----------------:|\n",
      "| min     |      3           |\n",
      "| max     |      2.14616e+07 |\n",
      "| nunique | 658724           |\n",
      "\n",
      "2024-11-09 16:04:06,192 [recsys_experiments] [save_parquet] - INFO: Saved artist_names.parquet to /home/mle-user/mle_projects/recommendation_system_service/experiments/artifacts/preprocessing.\n",
      "\n",
      "----- artist_names dataframe info -----\n",
      "|         |        artist_id |\n",
      "|:--------|-----------------:|\n",
      "| min     |      4           |\n",
      "| max     |      1.61028e+07 |\n",
      "| nunique | 153581           |\n",
      "\n",
      "2024-11-09 16:04:06,240 [recsys_experiments] [save_parquet] - INFO: Saved genre_names.parquet to /home/mle-user/mle_projects/recommendation_system_service/experiments/artifacts/preprocessing.\n",
      "\n",
      "----- genre_names dataframe info -----\n",
      "|         |   genre_id |\n",
      "|:--------|-----------:|\n",
      "| min     |          0 |\n",
      "| max     |       1542 |\n",
      "| nunique |        166 |\n",
      "\n"
     ]
    }
   ],
   "source": [
    "preprocessor.preprocess_catalog_names()"
   ]
  },
  {
   "cell_type": "markdown",
   "id": "96fc673a",
   "metadata": {},
   "source": [
    "Speaking about `catalog_names` dataframe:\n",
    "\n",
    "- There are no missing data.\n",
    "- There are 1000000 `tracks`\n",
    "- There are duplicates in the `name` feature for some `type`s.  \n",
    "Since we only kwow the `name` feature which describes each group, it is not a good idea   \n",
    "to just drop the duplicates or recode the `id` column - we might lose potentially essential   \n",
    "information (e.g. one `album` has a lot of `tracks` in it, while another has almost `no tracks` though the `album_name` is the same)\n",
    "- There are several groups with the `None-like` values in the names.  \n",
    "It might seem better to replace them with a missing value, however we might also lose information  \n",
    "after that - it is possible that some `album`s, `track`s or `artist`s have `'None'` name for some reason.  \n",
    "Therefore, such values will be kept as they are\n",
    "- Speaking of the performance, it is better to split the dataframe by `type`\n",
    "\n",
    "Speaking about `IDs` in dataframes with `names`:\n",
    "- the ids have to be changed, so that they all start at 0 and end at the number of unique ids - 1.  \n",
    "  This will not be done at this moment, but left for the future stages."
   ]
  },
  {
   "cell_type": "markdown",
   "id": "acdfeede",
   "metadata": {},
   "source": [
    "### <p style=\"color: #FFB266;\"> 2.2. tracks </p>"
   ]
  },
  {
   "cell_type": "code",
   "execution_count": 7,
   "id": "a9c1c945",
   "metadata": {},
   "outputs": [
    {
     "name": "stdout",
     "output_type": "stream",
     "text": [
      "2024-11-09 16:04:29,618 [recsys_experiments] [read_parquet] - INFO: Read tracks.parquet from /home/mle-user/mle_projects/recommendation_system_service/experiments/artifacts.\n",
      "----- 'tracks' dataframe info -----\n",
      "\n",
      "-- info --\n",
      "<class 'pandas.core.frame.DataFrame'>\n",
      "RangeIndex: 1000000 entries, 0 to 999999\n",
      "Data columns (total 4 columns):\n",
      " #   Column    Non-Null Count    Dtype \n",
      "---  ------    --------------    ----- \n",
      " 0   track_id  1000000 non-null  uint32\n",
      " 1   albums    1000000 non-null  object\n",
      " 2   artists   1000000 non-null  object\n",
      " 3   genres    1000000 non-null  object\n",
      "dtypes: object(3), uint32(1)\n",
      "memory usage: 26.7+ MB\n",
      "None\n",
      "\n",
      "-- sample --\n",
      "   track_id                                             albums artists  \\\n",
      "0        26                                       [3, 2490753]    [16]   \n",
      "1        38                                       [3, 2490753]    [16]   \n",
      "2       135                                 [12, 214, 2490809]    [84]   \n",
      "3       136                                 [12, 214, 2490809]    [84]   \n",
      "4       138  [12, 214, 322, 72275, 72292, 91199, 213505, 24...    [84]   \n",
      "\n",
      "     genres  \n",
      "0  [11, 21]  \n",
      "1  [11, 21]  \n",
      "2      [11]  \n",
      "3      [11]  \n",
      "4      [11]  \n",
      "\n",
      "-- missing data count --\n",
      "|          |   0 |\n",
      "|:---------|----:|\n",
      "| track_id |   0 |\n",
      "| albums   |   0 |\n",
      "| artists  |   0 |\n",
      "| genres   |   0 |\n",
      "\n",
      "-- duplicates count --\n",
      "0 (0.0%)\n",
      "\n",
      "2024-11-09 16:04:31,672 [recsys_experiments] [save_parquet] - INFO: Saved track_albums.parquet to /home/mle-user/mle_projects/recommendation_system_service/experiments/artifacts/preprocessing.\n",
      "\n",
      "----- track_album dataframe info -----\n",
      "\n",
      "-- info --\n",
      "<class 'pandas.core.frame.DataFrame'>\n",
      "Index: 3128808 entries, 0 to 999999\n",
      "Data columns (total 2 columns):\n",
      " #   Column    Dtype \n",
      "---  ------    ----- \n",
      " 0   track_id  uint32\n",
      " 1   album_id  uint32\n",
      "dtypes: uint32(2)\n",
      "memory usage: 47.7 MB\n",
      "None\n",
      "\n",
      "-- sample --\n",
      "|    |   track_id |     album_id |\n",
      "|---:|-----------:|-------------:|\n",
      "|  0 |         26 |  3           |\n",
      "|  0 |         26 |  2.49075e+06 |\n",
      "|  1 |         38 |  3           |\n",
      "|  1 |         38 |  2.49075e+06 |\n",
      "|  2 |        135 | 12           |\n",
      "\n",
      "-- missing data count --\n",
      "|          |   0 |\n",
      "|:---------|----:|\n",
      "| track_id |   0 |\n",
      "| album_id |   0 |\n",
      "\n",
      "-- duplicates count --\n",
      "0 (0.0%)\n",
      "\n",
      "-- number of items per album --\n",
      "999982 (99.9982%)\n",
      "\n",
      "2024-11-09 16:04:33,283 [recsys_experiments] [save_parquet] - INFO: Saved track_artists.parquet to /home/mle-user/mle_projects/recommendation_system_service/experiments/artifacts/preprocessing.\n",
      "\n",
      "----- track_artist dataframe info -----\n",
      "\n",
      "-- info --\n",
      "<class 'pandas.core.frame.DataFrame'>\n",
      "Index: 1264212 entries, 0 to 999999\n",
      "Data columns (total 2 columns):\n",
      " #   Column     Non-Null Count    Dtype \n",
      "---  ------     --------------    ----- \n",
      " 0   track_id   1264212 non-null  uint32\n",
      " 1   artist_id  1264212 non-null  uint32\n",
      "dtypes: uint32(2)\n",
      "memory usage: 19.3 MB\n",
      "None\n",
      "\n",
      "-- sample --\n",
      "|    |   track_id |   artist_id |\n",
      "|---:|-----------:|------------:|\n",
      "|  0 |         26 |          16 |\n",
      "|  1 |         38 |          16 |\n",
      "|  2 |        135 |          84 |\n",
      "|  3 |        136 |          84 |\n",
      "|  4 |        138 |          84 |\n",
      "\n",
      "-- missing data count --\n",
      "|           |   0 |\n",
      "|:----------|----:|\n",
      "| track_id  |   0 |\n",
      "| artist_id |   0 |\n",
      "\n",
      "-- duplicates count --\n",
      "0 (0.0%)\n",
      "\n",
      "-- number of items per artist --\n",
      "984631 (98.4631%)\n",
      "\n",
      "2024-11-09 16:04:34,790 [recsys_experiments] [save_parquet] - INFO: Saved track_genres.parquet to /home/mle-user/mle_projects/recommendation_system_service/experiments/artifacts/preprocessing.\n",
      "\n",
      "----- track_genre dataframe info -----\n",
      "\n",
      "-- info --\n",
      "<class 'pandas.core.frame.DataFrame'>\n",
      "Index: 1652658 entries, 0 to 999999\n",
      "Data columns (total 2 columns):\n",
      " #   Column    Non-Null Count    Dtype \n",
      "---  ------    --------------    ----- \n",
      " 0   track_id  1652658 non-null  uint32\n",
      " 1   genre_id  1652658 non-null  uint32\n",
      "dtypes: uint32(2)\n",
      "memory usage: 25.2 MB\n",
      "None\n",
      "\n",
      "-- sample --\n",
      "|    |   track_id |   genre_id |\n",
      "|---:|-----------:|-----------:|\n",
      "|  0 |         26 |         11 |\n",
      "|  0 |         26 |         21 |\n",
      "|  1 |         38 |         11 |\n",
      "|  1 |         38 |         21 |\n",
      "|  2 |        135 |         11 |\n",
      "\n",
      "-- missing data count --\n",
      "|          |   0 |\n",
      "|:---------|----:|\n",
      "| track_id |   0 |\n",
      "| genre_id |   0 |\n",
      "\n",
      "-- duplicates count --\n",
      "0 (0.0%)\n",
      "\n",
      "-- number of items per genre --\n",
      "996313 (99.6313%)\n",
      "\n"
     ]
    }
   ],
   "source": [
    "preprocessor.preprocess_tracks()"
   ]
  },
  {
   "cell_type": "markdown",
   "id": "fc50818c",
   "metadata": {},
   "source": [
    "About `tracks` dataframe:\n",
    "- There are no duplicates or missing data\n",
    "- There is the same amount of tracks as in the `catalog_names` dataframe. This means that all `tracks` have a name (if to check IDs directly, the subsets will be the same)\n",
    "- It is better to `\"explode\"` other columns since they conist of lists - it will be much better later to deal with data in this format.\n",
    "\n",
    "About `track_album`, `track_artist` and `track_genre` dataframes:\n",
    "- There are no duplicates\n",
    "- There are very few tracks with no data for some features"
   ]
  },
  {
   "cell_type": "markdown",
   "id": "e663c806",
   "metadata": {},
   "source": [
    "### <p style=\"color: #FFB266;\"> 2.3. interactions </p>"
   ]
  },
  {
   "cell_type": "code",
   "execution_count": 5,
   "id": "b5ba6e74",
   "metadata": {},
   "outputs": [
    {
     "name": "stderr",
     "output_type": "stream",
     "text": [
      "                                                                                \r"
     ]
    },
    {
     "name": "stdout",
     "output_type": "stream",
     "text": [
      "2024-11-10 07:49:32,140 [recsys_experiments] [read_parquet] - INFO: Read interactions.parquet from /home/mle-user/mle_projects/recommendation_system_service/experiments/artifacts.\n"
     ]
    },
    {
     "name": "stderr",
     "output_type": "stream",
     "text": [
      "[Stage 1:===================================================>       (7 + 1) / 8]\r"
     ]
    },
    {
     "name": "stdout",
     "output_type": "stream",
     "text": [
      "2024-11-10 07:50:38,301 [recsys_experiments] [save_parquet] - INFO: Saved events_train.parquet to /home/mle-user/mle_projects/recommendation_system_service/experiments/artifacts/preprocessing.\n"
     ]
    },
    {
     "name": "stderr",
     "output_type": "stream",
     "text": [
      "[Stage 2:>                                                          (0 + 1) / 1]\r"
     ]
    },
    {
     "name": "stdout",
     "output_type": "stream",
     "text": [
      "2024-11-10 07:50:46,856 [recsys_experiments] [save_parquet] - INFO: Saved events_target.parquet to /home/mle-user/mle_projects/recommendation_system_service/experiments/artifacts/preprocessing.\n"
     ]
    },
    {
     "name": "stderr",
     "output_type": "stream",
     "text": [
      "[Stage 3:>                                                          (0 + 1) / 1]\r"
     ]
    },
    {
     "name": "stdout",
     "output_type": "stream",
     "text": [
      "2024-11-10 07:50:55,103 [recsys_experiments] [save_parquet] - INFO: Saved events_test.parquet to /home/mle-user/mle_projects/recommendation_system_service/experiments/artifacts/preprocessing.\n"
     ]
    },
    {
     "name": "stderr",
     "output_type": "stream",
     "text": [
      "                                                                                \r"
     ]
    },
    {
     "name": "stdout",
     "output_type": "stream",
     "text": [
      "\n",
      "----- 'interactions' dataframe info -----\n",
      "\n",
      "-- schema --\n",
      "root\n",
      " |-- user_id: integer (nullable = true)\n",
      " |-- track_id: integer (nullable = true)\n",
      " |-- track_seq: short (nullable = true)\n",
      " |-- started_at: date (nullable = true)\n",
      "\n",
      "-- sample --\n",
      "+-------+--------+---------+----------+\n",
      "|user_id|track_id|track_seq|started_at|\n",
      "+-------+--------+---------+----------+\n",
      "|      0|   99262|        1|2022-07-17|\n",
      "|      0|  589498|        2|2022-07-19|\n",
      "|      0|  590262|        3|2022-07-21|\n",
      "|      0|  590303|        4|2022-07-22|\n",
      "|      0|  590692|        5|2022-07-22|\n",
      "+-------+--------+---------+----------+\n",
      "only showing top 5 rows\n",
      "\n",
      "-- missing data count --\n"
     ]
    },
    {
     "name": "stderr",
     "output_type": "stream",
     "text": [
      "                                                                                \r"
     ]
    },
    {
     "name": "stdout",
     "output_type": "stream",
     "text": [
      "+-------+--------+---------+----------+\n",
      "|user_id|track_id|track_seq|started_at|\n",
      "+-------+--------+---------+----------+\n",
      "|      0|       0|        0|         0|\n",
      "+-------+--------+---------+----------+\n",
      "\n"
     ]
    },
    {
     "name": "stderr",
     "output_type": "stream",
     "text": [
      "                                                                                \r"
     ]
    },
    {
     "name": "stdout",
     "output_type": "stream",
     "text": [
      "Number of:  events - 222629898, users - 1373221 items - 1000000 sparsity - 99.9838%\n",
      "\n",
      "----- 'events_train' dataframe info -----\n"
     ]
    },
    {
     "name": "stderr",
     "output_type": "stream",
     "text": [
      "                                                                                \r"
     ]
    },
    {
     "name": "stdout",
     "output_type": "stream",
     "text": [
      "Number of: events - 208731252 (93.76%), users - 1342566 (97.77%) items - 999695 (99.97%)\n",
      " sparsity - 99.9844%\n",
      "\n",
      "----- 'events_test' dataframe info -----\n"
     ]
    },
    {
     "name": "stderr",
     "output_type": "stream",
     "text": [
      "[Stage 56:==================================================>       (7 + 1) / 8]\r"
     ]
    },
    {
     "name": "stdout",
     "output_type": "stream",
     "text": [
      "Number of: events - 13898646 (6.24%), users - 783525 (57.06%),  items - 594326 (59.43%),  sparsity - 99.997%\n",
      " users (test only) - 783525 (2.23%)\n",
      "\n"
     ]
    },
    {
     "name": "stderr",
     "output_type": "stream",
     "text": [
      "                                                                                \r"
     ]
    }
   ],
   "source": [
    "preprocessor.preprocess_interactions()"
   ]
  },
  {
   "cell_type": "markdown",
   "id": "cc1ab2f8",
   "metadata": {},
   "source": [
    "It can be seen that:\n",
    "- There are no missing data\n",
    "- There is the same amount of tracks as in the `catalog_names` dataframe. This means that all `tracks` have been listened to at least a single time (if to check IDs directly, the subsets will be the same)\n",
    "- There are also no duplicates since each `interaction` `(event)` is denoted as a first `interaction` between `user` and `track`\n",
    "- There are:\n",
    "    - total: 1373221 `users`, 1000000 `items`, 222629898 `events`, 99.9838% `sparsity`\n",
    "    - train: 97.77% `users`, 99.97% `items`, 93.76% `events`, 99.9844% `sparsity`\n",
    "    - test: 57.06% `users`, 59.43% `items`, 6.24% `events`, 99.9970% `sparsity`\n",
    "    - test only: 2.23% `users`  \n",
    "    \n",
    "Unsuprisingly, there are some new `users` in the test set. These `users` can't be used when building any recommendation model apart from the simplest one, which recommends the most popular `tracks`\n",
    "\n",
    "The test set was further splited into target and test subsets.\n",
    "    \n",
    "Since the sparsity is huge, it is a good idea to check if there are any `tracks` with very low number of `events` - those `tracks` can be considered as a noise and omitted when building a recommendation model."
   ]
  },
  {
   "cell_type": "markdown",
   "id": "318b573a-9e2d-4808-95db-60cfb8bbdb73",
   "metadata": {
    "editable": true,
    "slideshow": {
     "slide_type": ""
    },
    "tags": []
   },
   "source": [
    "## <p style=\"color: #999900;\"> 3. Conclusions </p>"
   ]
  },
  {
   "cell_type": "markdown",
   "id": "caa96e12-36a8-4401-8f11-98627a49ae9d",
   "metadata": {},
   "source": [
    "1. No missing data was observed apart from very few tracks with no data for some track features\n",
    "2. There are no `tracks` with 0 playbacks\n",
    "3. No duplicates were observed apart from duplicated `name` field for some `tracks`, `albums` and `artists`.\n",
    "    Those `name`s were not reindexed since this action might lead to information loss\n",
    "4. About 2% of the test users are new - they will not be considered when building recommendation models \n",
    "5. It is a good idea to omit the least popular `tracks` - it might improve the quality of the recommendations"
   ]
  },
  {
   "cell_type": "markdown",
   "id": "ece36b78",
   "metadata": {},
   "source": [
    "## <p style=\"color: #999900;\"> 4. Logging </p>"
   ]
  },
  {
   "cell_type": "code",
   "execution_count": 9,
   "id": "ff07a6ff",
   "metadata": {},
   "outputs": [
    {
     "name": "stdout",
     "output_type": "stream",
     "text": [
      "2024-11-09 16:23:37,553 [recsys_experiments] [get_experiment_id] - INFO: Experiment 'recsys_yandex_music' exists\n"
     ]
    },
    {
     "name": "stderr",
     "output_type": "stream",
     "text": [
      "2024/11/09 16:23:45 INFO mlflow.tracking._tracking_service.client: 🏃 View run preprocessing at: http://127.0.0.1:5000/#/experiments/15/runs/2823a2df7dab4c828f0c398b8a17a520.\n",
      "2024/11/09 16:23:45 INFO mlflow.tracking._tracking_service.client: 🧪 View experiment at: http://127.0.0.1:5000/#/experiments/15.\n"
     ]
    }
   ],
   "source": [
    "preprocessor.log()"
   ]
  },
  {
   "cell_type": "code",
   "execution_count": null,
   "id": "a5c11b89",
   "metadata": {},
   "outputs": [
    {
     "ename": "",
     "evalue": "",
     "output_type": "error",
     "traceback": [
      "\u001b[1;31mThe Kernel crashed while executing code in the current cell or a previous cell. \n",
      "\u001b[1;31mPlease review the code in the cell(s) to identify a possible cause of the failure. \n",
      "\u001b[1;31mClick <a href='https://aka.ms/vscodeJupyterKernelCrash'>here</a> for more info. \n",
      "\u001b[1;31mView Jupyter <a href='command:jupyter.viewOutput'>log</a> for further details."
     ]
    }
   ],
   "source": [
    "exit(0)"
   ]
  },
  {
   "cell_type": "markdown",
   "id": "7bc3296b-eba6-4333-a78d-b9304aa87e3d",
   "metadata": {},
   "source": [
    "# <p style=\"color: #33FF33; text-align:center;\"> STAGE II. EDA</p>"
   ]
  },
  {
   "cell_type": "markdown",
   "id": "b4a1955a",
   "metadata": {},
   "source": [
    "<p style=\"color: #FF0000; font-size:24px;\"> Restart the notebook before proceeding </p>"
   ]
  },
  {
   "cell_type": "code",
   "execution_count": 3,
   "id": "f59ef559",
   "metadata": {},
   "outputs": [
    {
     "name": "stdout",
     "output_type": "stream",
     "text": [
      "2024-11-09 16:24:29,759 [recsys_experiments] [read_yaml] - INFO: YAML file /home/mle-user/mle_projects/recommendation_system_service/experiments/config/spark_config.yaml has been loaded\n"
     ]
    },
    {
     "name": "stderr",
     "output_type": "stream",
     "text": [
      "24/11/09 16:24:31 WARN Utils: Your hostname, epd8p8viml4bs7ctd2uc resolves to a loopback address: 127.0.1.1; using 10.129.0.85 instead (on interface eth0)\n",
      "24/11/09 16:24:31 WARN Utils: Set SPARK_LOCAL_IP if you need to bind to another address\n",
      "Setting default log level to \"WARN\".\n",
      "To adjust logging level use sc.setLogLevel(newLevel). For SparkR, use setLogLevel(newLevel).\n",
      "24/11/09 16:24:31 WARN NativeCodeLoader: Unable to load native-hadoop library for your platform... using builtin-java classes where applicable\n"
     ]
    }
   ],
   "source": [
    "component = EDAComponent()"
   ]
  },
  {
   "cell_type": "markdown",
   "id": "3e853442",
   "metadata": {},
   "source": [
    "## <p style=\"color: #999900;\"> 1. User-related analysis </p>"
   ]
  },
  {
   "cell_type": "code",
   "execution_count": 4,
   "id": "fe161d3f",
   "metadata": {},
   "outputs": [
    {
     "name": "stderr",
     "output_type": "stream",
     "text": [
      "                                                                                \r"
     ]
    },
    {
     "name": "stdout",
     "output_type": "stream",
     "text": [
      "2024-11-09 16:24:36,331 [recsys_experiments] [read_parquet] - INFO: Read events_train.parquet from /home/mle-user/mle_projects/recommendation_system_service/experiments/artifacts/preprocessing.\n",
      "----- ITEMS PER USER -----\n",
      "\n",
      "\n"
     ]
    },
    {
     "name": "stderr",
     "output_type": "stream",
     "text": [
      "                                                                                \r"
     ]
    },
    {
     "name": "stdout",
     "output_type": "stream",
     "text": [
      "Most active users\n",
      "|   user_id |   items_per_user |\n",
      "|----------:|-----------------:|\n",
      "|    398979 |            15955 |\n",
      "|   1200889 |            14747 |\n",
      "|    590868 |            14459 |\n",
      "|    731216 |            12665 |\n",
      "|    339714 |            12223 |\n",
      "|   1288206 |            12016 |\n",
      "|    474845 |            11925 |\n",
      "|   1195393 |            11458 |\n",
      "|    805623 |            10658 |\n",
      "|   1195189 |            10542 |\n",
      "\n",
      "Least active users\n",
      "|   user_id |   items_per_user |\n",
      "|----------:|-----------------:|\n",
      "|    162328 |                1 |\n",
      "|    173505 |                1 |\n",
      "|    173142 |                1 |\n",
      "|    169101 |                1 |\n",
      "|   1040281 |                1 |\n",
      "|   1036904 |                1 |\n",
      "|   1047850 |                1 |\n",
      "|   1049652 |                1 |\n",
      "|    163247 |                1 |\n",
      "|    158960 |                1 |\n",
      "\n",
      "Number of unique users: 1342566\n",
      "\n",
      "\n",
      "Quantiles\n",
      "|    |   quantiles |   items_per_user |\n",
      "|---:|------------:|-----------------:|\n",
      "|  0 |       0.1   |               12 |\n",
      "|  1 |       0.2   |               17 |\n",
      "|  2 |       0.3   |               24 |\n",
      "|  3 |       0.4   |               35 |\n",
      "|  4 |       0.5   |               51 |\n",
      "|  5 |       0.6   |               76 |\n",
      "|  6 |       0.7   |              115 |\n",
      "|  7 |       0.8   |              191 |\n",
      "|  8 |       0.9   |              374 |\n",
      "|  9 |       0.95  |              632 |\n",
      "| 10 |       0.99  |             1544 |\n",
      "| 11 |       0.999 |             3937 |\n",
      "\n"
     ]
    },
    {
     "data": {
      "image/png": "[encoded data removed]",
      "text/plain": [
       "<Figure size 750x400 with 1 Axes>"
      ]
     },
     "metadata": {},
     "output_type": "display_data"
    },
    {
     "name": "stdout",
     "output_type": "stream",
     "text": [
      "2024-11-09 16:24:55,196 [recsys_experiments] [custom_hist_multiplot] - INFO: custom_hist_multiplot saved to /home/mle-user/mle_projects/recommendation_system_service/experiments/artifacts/eda/assets/items_per_user_hist.png\n"
     ]
    },
    {
     "name": "stderr",
     "output_type": "stream",
     "text": [
      "                                                                                \r"
     ]
    },
    {
     "data": {
      "image/png": "[encoded data removed]",
      "text/plain": [
       "<Figure size 800x400 with 1 Axes>"
      ]
     },
     "metadata": {},
     "output_type": "display_data"
    },
    {
     "name": "stderr",
     "output_type": "stream",
     "text": [
      "                                                                                \r"
     ]
    },
    {
     "data": {
      "image/png": "[encoded data removed]",
      "text/plain": [
       "<Figure size 800x400 with 1 Axes>"
      ]
     },
     "metadata": {},
     "output_type": "display_data"
    },
    {
     "name": "stdout",
     "output_type": "stream",
     "text": [
      "2024-11-09 16:26:16,330 [recsys_experiments] [user_analysis] - INFO: Finished user analysis\n"
     ]
    }
   ],
   "source": [
    "component.user_analysis()"
   ]
  },
  {
   "cell_type": "markdown",
   "id": "c60707fe",
   "metadata": {},
   "source": [
    "1. Top users according to the activity (new tracks experience) lie far from the rest users according to the hist plot\n",
    "2. Top 10 users listened to at least 10k different tracks\n",
    "3. Least active users listened to only 1 track\n",
    "4. The number of users with a specific activity rapidly declines as the activity grows\n",
    "5. The cumulative number of users (i.e. the number of unique users up to specific date) increases linearly over time\n",
    "6. The number of users per month (i.e. the number of unique users that have some activity in specific month) increases linearly over time, but a decline can be observed at the last month - probably most of the users have collected their corresponding set of tracks and almost stopped trying to search for new ones."
   ]
  },
  {
   "cell_type": "markdown",
   "id": "bf0493b4",
   "metadata": {},
   "source": [
    "## <p style=\"color: #999900;\"> 2. Track-related analysis </p>"
   ]
  },
  {
   "cell_type": "code",
   "execution_count": 5,
   "id": "4d49a35a",
   "metadata": {},
   "outputs": [
    {
     "name": "stdout",
     "output_type": "stream",
     "text": [
      "2024-11-09 16:28:00,968 [recsys_experiments] [read_parquet] - INFO: Read events_train.parquet from /home/mle-user/mle_projects/recommendation_system_service/experiments/artifacts/preprocessing.\n",
      "----- USERS PER ITEM -----\n",
      "\n",
      "\n"
     ]
    },
    {
     "name": "stderr",
     "output_type": "stream",
     "text": [
      "                                                                                \r"
     ]
    },
    {
     "name": "stdout",
     "output_type": "stream",
     "text": [
      "Most popular items\n",
      "|         |   users_per_item | track                   |\n",
      "|--------:|-----------------:|:------------------------|\n",
      "|  821569 |           110026 | Smells Like Teen Spirit |\n",
      "| 1296347 |           101076 | Believer                |\n",
      "|  839136 |           100866 | Numb                    |\n",
      "| 1324628 |            95523 | I Got Love              |\n",
      "| 1180543 |            84153 | Way Down We Go          |\n",
      "|  902932 |            83749 | Shape Of My Heart       |\n",
      "| 1009736 |            80608 | Seven Nation Army       |\n",
      "| 1287760 |            80243 | Shape of You            |\n",
      "|  819029 |            79512 | Zombie                  |\n",
      "| 1459708 |            78564 | Life                    |\n",
      "\n",
      "Least popular items\n",
      "|         |   users_per_item | track                       |\n",
      "|--------:|-----------------:|:----------------------------|\n",
      "| 1800539 |                1 | Aus und Vorbei              |\n",
      "| 1782031 |                1 | Fragments of Your Love      |\n",
      "| 1231700 |                1 | Keep Your Hands to Yourself |\n",
      "| 1762776 |                1 | Женщина моей мечты          |\n",
      "| 1794681 |                1 | Фейерверк                   |\n",
      "| 1808394 |                1 | Ninja in HDMI               |\n",
      "| 1791679 |                1 | Москва не станет Лондоном   |\n",
      "| 1799667 |                1 | Rolling Stone               |\n",
      "| 1806051 |                1 | Tonight                     |\n",
      "| 1369737 |                1 | Mein Herz                   |\n",
      "\n",
      "Number of unique items: 999695\n",
      "\n",
      "\n",
      "Quantiles\n",
      "|    |   quantiles |   users_per_item |\n",
      "|---:|------------:|-----------------:|\n",
      "|  0 |       0.1   |             6    |\n",
      "|  1 |       0.2   |             7    |\n",
      "|  2 |       0.3   |             9    |\n",
      "|  3 |       0.4   |            12    |\n",
      "|  4 |       0.5   |            17    |\n",
      "|  5 |       0.6   |            26    |\n",
      "|  6 |       0.7   |            44    |\n",
      "|  7 |       0.8   |            91    |\n",
      "|  8 |       0.9   |           280    |\n",
      "|  9 |       0.95  |           710    |\n",
      "| 10 |       0.99  |          3669.06 |\n",
      "| 11 |       0.999 |         17903.6  |\n",
      "\n"
     ]
    },
    {
     "data": {
      "image/png": "[encoded data removed]",
      "text/plain": [
       "<Figure size 750x400 with 1 Axes>"
      ]
     },
     "metadata": {},
     "output_type": "display_data"
    },
    {
     "name": "stdout",
     "output_type": "stream",
     "text": [
      "2024-11-09 16:28:21,470 [recsys_experiments] [custom_hist_multiplot] - INFO: custom_hist_multiplot saved to /home/mle-user/mle_projects/recommendation_system_service/experiments/artifacts/eda/assets/users_per_item_hist.png\n"
     ]
    },
    {
     "name": "stderr",
     "output_type": "stream",
     "text": [
      "                                                                                \r"
     ]
    },
    {
     "data": {
      "image/png": "[encoded data removed]",
      "text/plain": [
       "<Figure size 800x400 with 1 Axes>"
      ]
     },
     "metadata": {},
     "output_type": "display_data"
    },
    {
     "name": "stderr",
     "output_type": "stream",
     "text": [
      "                                                                                \r"
     ]
    },
    {
     "data": {
      "image/png": "[encoded data removed]",
      "text/plain": [
       "<Figure size 800x400 with 1 Axes>"
      ]
     },
     "metadata": {},
     "output_type": "display_data"
    },
    {
     "name": "stdout",
     "output_type": "stream",
     "text": [
      "2024-11-09 16:30:13,332 [recsys_experiments] [item_analysis] - INFO: Finished item analysis\n"
     ]
    }
   ],
   "source": [
    "component.item_analysis()"
   ]
  },
  {
   "cell_type": "markdown",
   "id": "460f7b3e",
   "metadata": {},
   "source": [
    "1. The more popular the track the lower the number of them\n",
    "2. Top tracks differ from the rest of the tracks significantly\n",
    "3. Top tracks seem to be the ones that have to be popular\n",
    "4. Top 10 tracks have at least 78k users that have listened to the track\n",
    "5. Only a single user listened to the Least popular tracks\n",
    "6. 90% of tracks have less than 300 playbacks\n",
    "7. The cumulative number of tracks increases linearly over time and converges at the last observed month\n",
    "8. The number of tracks per month (i.e. the number of tracks that were played by some user for the first time) increases linearly over time and declines at the last observed months\n",
    "\n",
    "All in all, it might be beneficial to consider tracks with at least some popularity, so that too noisy tracks with no popularity are not included in the recommendation models. As a result, the offline recommendations will be more accurate, although at the cost of item coverage and also user coverage since omitting tracks leads to omitting certain amount of users that have only listened to those tracks."
   ]
  },
  {
   "cell_type": "markdown",
   "id": "38e53e8a",
   "metadata": {},
   "source": [
    "## <p style=\"color: #999900;\"> 3. Genre-related analysis </p>"
   ]
  },
  {
   "cell_type": "code",
   "execution_count": 6,
   "id": "f26ea4a0",
   "metadata": {},
   "outputs": [
    {
     "name": "stdout",
     "output_type": "stream",
     "text": [
      "2024-11-09 16:30:27,603 [recsys_experiments] [read_parquet] - INFO: Read track_genres.parquet from /home/mle-user/mle_projects/recommendation_system_service/experiments/artifacts/preprocessing.\n",
      "----- GENRES PER ITEM -----\n",
      "\n",
      "|   track_id |   genre_count | track                    |\n",
      "|-----------:|--------------:|:-------------------------|\n",
      "|    4984867 |            10 | Black Coffee             |\n",
      "|    4984786 |            10 | Early in the Mornin'     |\n",
      "|    4984839 |            10 | Feelin' Sad              |\n",
      "|    4984834 |            10 | Georgia on My Mind       |\n",
      "|    4984794 |            10 | Hallelujah I Love Her So |\n",
      "|   22385046 |            10 | House Daddy              |\n",
      "|    4984783 |            10 | My Melancholy Baby       |\n",
      "|    4984825 |            10 | The Midnight Hour        |\n",
      "|    4984869 |            10 | The Ray                  |\n",
      "|    4984847 |            10 | You Won't Let Me Go      |\n",
      "\n",
      "Quantiles\n",
      "|    |   quantiles |   genre_count |\n",
      "|---:|------------:|--------------:|\n",
      "|  0 |       0.1   |             1 |\n",
      "|  1 |       0.2   |             1 |\n",
      "|  2 |       0.3   |             1 |\n",
      "|  3 |       0.4   |             2 |\n",
      "|  4 |       0.5   |             2 |\n",
      "|  5 |       0.6   |             2 |\n",
      "|  6 |       0.7   |             2 |\n",
      "|  7 |       0.8   |             2 |\n",
      "|  8 |       0.9   |             2 |\n",
      "|  9 |       0.95  |             2 |\n",
      "| 10 |       0.99  |             3 |\n",
      "| 11 |       0.999 |             5 |\n",
      "\n"
     ]
    },
    {
     "data": {
      "image/png": "[encoded data removed]",
      "text/plain": [
       "<Figure size 1000x385 with 1 Axes>"
      ]
     },
     "metadata": {},
     "output_type": "display_data"
    },
    {
     "name": "stdout",
     "output_type": "stream",
     "text": [
      "2024-11-09 16:30:29,786 [recsys_experiments] [custom_hist_multiplot] - INFO: custom_hist_multiplot saved to /home/mle-user/mle_projects/recommendation_system_service/experiments/artifacts/eda/assets/genres_per_item_hist.png\n",
      "----- ITEMS PER GENRE -----\n",
      "\n",
      "Number of unique genres: 173\n",
      "\n",
      "Most broad genres\n",
      "|   genre_id |   item_count | genre       |\n",
      "|-----------:|-------------:|:------------|\n",
      "|         11 |       166285 | pop         |\n",
      "|         75 |       128212 | rap         |\n",
      "|        102 |       118509 | allrock     |\n",
      "|         68 |       114245 | electronics |\n",
      "|         47 |        72311 | metal       |\n",
      "|          3 |        65958 | rusrap      |\n",
      "|         44 |        59778 | foreignrap  |\n",
      "|         14 |        55177 | rock        |\n",
      "|         16 |        51631 | dance       |\n",
      "|         20 |        46707 | ruspop      |\n",
      "\n",
      "Least broad genres\n",
      "|   genre_id |   item_count | genre            |\n",
      "|-----------:|-------------:|:-----------------|\n",
      "|         66 |           32 | israelirap       |\n",
      "|        133 |           27 | nan              |\n",
      "|        122 |           25 | narrative        |\n",
      "|        115 |           22 | turkishclassical |\n",
      "|        166 |           20 | nan              |\n",
      "|        108 |           14 | hls              |\n",
      "|        106 |            4 | technologies     |\n",
      "|        148 |            4 | nan              |\n",
      "|        124 |            2 | nan              |\n",
      "|        150 |            2 | nan              |\n",
      "\n",
      "Quantiles\n",
      "|    |   quantiles |   item_count |\n",
      "|---:|------------:|-------------:|\n",
      "|  0 |       0.1   |         78.6 |\n",
      "|  1 |       0.2   |        266   |\n",
      "|  2 |       0.3   |        540.8 |\n",
      "|  3 |       0.4   |       1305.2 |\n",
      "|  4 |       0.5   |       1958   |\n",
      "|  5 |       0.6   |       2992   |\n",
      "|  6 |       0.7   |       4997.2 |\n",
      "|  7 |       0.8   |       7659.8 |\n",
      "|  8 |       0.9   |      21239.6 |\n",
      "|  9 |       0.95  |      48676.6 |\n",
      "| 10 |       0.99  |     121226   |\n",
      "| 11 |       0.999 |     159736   |\n",
      "\n"
     ]
    },
    {
     "data": {
      "image/png": "[encoded data removed]",
      "text/plain": [
       "<Figure size 750x400 with 1 Axes>"
      ]
     },
     "metadata": {},
     "output_type": "display_data"
    },
    {
     "name": "stdout",
     "output_type": "stream",
     "text": [
      "2024-11-09 16:30:30,425 [recsys_experiments] [custom_hist_multiplot] - INFO: custom_hist_multiplot saved to /home/mle-user/mle_projects/recommendation_system_service/experiments/artifacts/eda/assets/items_per_genre_hist.png\n",
      "2024-11-09 16:30:30,426 [recsys_experiments] [category_analysis] - INFO: Finished genre analysis\n"
     ]
    }
   ],
   "source": [
    "component.category_analysis('genre', yscale='log')"
   ]
  },
  {
   "cell_type": "markdown",
   "id": "d60536a7",
   "metadata": {},
   "source": [
    "1. There are 173 genres\n",
    "2. The majority of the tracks have either 1 or 2 specified genres\n",
    "3. It is possible to find tracks with 10 specified genres, but there are very few of them\n",
    "4. The broader the genre in terms of the corresponding tracks, the less the number of them\n",
    "5. The broadest genres are indeed the ones that are the most popular\n",
    "6. Top 10 genres have at least 45k tracks of the genre"
   ]
  },
  {
   "cell_type": "markdown",
   "id": "130e02c0",
   "metadata": {},
   "source": [
    "## <p style=\"color: #999900;\"> 4. Album-related analysis </p>"
   ]
  },
  {
   "cell_type": "code",
   "execution_count": 7,
   "id": "50bc50c6-2d83-4c7e-97fa-3e7627978438",
   "metadata": {},
   "outputs": [
    {
     "name": "stdout",
     "output_type": "stream",
     "text": [
      "2024-11-09 16:33:56,966 [recsys_experiments] [read_parquet] - INFO: Read track_albums.parquet from /home/mle-user/mle_projects/recommendation_system_service/experiments/artifacts/preprocessing.\n",
      "----- ALBUMS PER ITEM -----\n",
      "\n",
      "|   track_id |   album_count | track                |\n",
      "|-----------:|--------------:|:---------------------|\n",
      "|   23233264 |          2844 | Liquid               |\n",
      "|   24642198 |          2843 | One by One           |\n",
      "|   23233263 |          2837 | Drifting             |\n",
      "|   24269035 |          2827 | Out of the Blue 2015 |\n",
      "|   24006507 |          2824 | Lamentation          |\n",
      "|   24006508 |          2820 | For Keeps            |\n",
      "|   23843412 |          2817 | Black Orpheus        |\n",
      "|   24178049 |          2817 | Vault                |\n",
      "|   23227138 |          2809 | Wave                 |\n",
      "|   24178050 |          2807 | Start Tonight        |\n",
      "\n",
      "Quantiles\n",
      "|    |   quantiles |   album_count |\n",
      "|---:|------------:|--------------:|\n",
      "|  0 |       0.1   |             1 |\n",
      "|  1 |       0.2   |             1 |\n",
      "|  2 |       0.3   |             1 |\n",
      "|  3 |       0.4   |             1 |\n",
      "|  4 |       0.5   |             1 |\n",
      "|  5 |       0.6   |             1 |\n",
      "|  6 |       0.7   |             2 |\n",
      "|  7 |       0.8   |             2 |\n",
      "|  8 |       0.9   |             3 |\n",
      "|  9 |       0.95  |             6 |\n",
      "| 10 |       0.99  |            24 |\n",
      "| 11 |       0.999 |           270 |\n",
      "\n"
     ]
    },
    {
     "data": {
      "image/png": "[encoded data removed]",
      "text/plain": [
       "<Figure size 750x400 with 1 Axes>"
      ]
     },
     "metadata": {},
     "output_type": "display_data"
    },
    {
     "name": "stdout",
     "output_type": "stream",
     "text": [
      "2024-11-09 16:34:00,060 [recsys_experiments] [custom_hist_multiplot] - INFO: custom_hist_multiplot saved to /home/mle-user/mle_projects/recommendation_system_service/experiments/artifacts/eda/assets/albums_per_item_hist.png\n",
      "----- ITEMS PER ALBUM -----\n",
      "\n",
      "Number of unique albums: 658724\n",
      "\n",
      "Most broad albums\n",
      "|   album_id |   item_count | album                                 |\n",
      "|-----------:|-------------:|:--------------------------------------|\n",
      "|    7293229 |         1001 | Daily Easy English Expression Podcast |\n",
      "|    6271311 |          880 | «Подкаст Лайфхакера»                  |\n",
      "|    7121797 |          368 | Виват, история!                       |\n",
      "|    6966125 |          348 | Брендятина                            |\n",
      "|    6316997 |          334 | Newочём                               |\n",
      "|   16272876 |          289 | 24 Hours Of R&B                       |\n",
      "|    9091882 |          282 | ТЕД на русском                        |\n",
      "|    6408431 |          260 | The Big Beard Theory                  |\n",
      "|    4060253 |          246 | Коллекция                             |\n",
      "|     496501 |          244 | Integrale                             |\n",
      "\n",
      "Least broad albums\n",
      "|   album_id |   item_count | album                                                                    |\n",
      "|-----------:|-------------:|:-------------------------------------------------------------------------|\n",
      "|    5224886 |            1 | 젖어'S (Wet)                                                             |\n",
      "|    5555118 |            1 | 젖어'S (Wet) Remix                                                       |\n",
      "|    4930927 |            1 | 좋다고 말해                                                              |\n",
      "|    7012619 |            1 | 죽어도 못 보내 Never Let You Go                                          |\n",
      "|   10109065 |            1 | 추억으로 나는 간다 As Memories Go                                        |\n",
      "|   11671672 |            1 | 텐데…Timeless                                                            |\n",
      "|    6068905 |            1 | 피아노로 감상하는 디즈니 앨범 : 자장가  (Disney Peaceful Piano: Lullaby) |\n",
      "|    5170220 |            1 | 핑크퐁 상어 가족 스페셜                                                  |\n",
      "|   11671675 |            1 | 행복 Happiness                                                           |\n",
      "|   11671681 |            1 | 훗 Hoot - The 3rd Mini Album                                             |\n",
      "\n",
      "Quantiles\n",
      "|    |   quantiles |   item_count |\n",
      "|---:|------------:|-------------:|\n",
      "|  0 |       0.1   |        1     |\n",
      "|  1 |       0.2   |        1     |\n",
      "|  2 |       0.3   |        1     |\n",
      "|  3 |       0.4   |        1     |\n",
      "|  4 |       0.5   |        1     |\n",
      "|  5 |       0.6   |        2     |\n",
      "|  6 |       0.7   |        3     |\n",
      "|  7 |       0.8   |        6     |\n",
      "|  8 |       0.9   |       13     |\n",
      "|  9 |       0.95  |       22     |\n",
      "| 10 |       0.99  |       45     |\n",
      "| 11 |       0.999 |       71.277 |\n",
      "\n"
     ]
    },
    {
     "data": {
      "image/png": "[encoded data removed]",
      "text/plain": [
       "<Figure size 750x400 with 1 Axes>"
      ]
     },
     "metadata": {},
     "output_type": "display_data"
    },
    {
     "name": "stdout",
     "output_type": "stream",
     "text": [
      "2024-11-09 16:34:02,581 [recsys_experiments] [custom_hist_multiplot] - INFO: custom_hist_multiplot saved to /home/mle-user/mle_projects/recommendation_system_service/experiments/artifacts/eda/assets/items_per_album_hist.png\n",
      "2024-11-09 16:34:02,582 [recsys_experiments] [category_analysis] - INFO: Finished album analysis\n"
     ]
    }
   ],
   "source": [
    "component.category_analysis('album', yscale='log')"
   ]
  },
  {
   "cell_type": "markdown",
   "id": "7b3e4c5c",
   "metadata": {},
   "source": [
    "1. There are 658724 albums\n",
    "2. 99 % of tracks have at most about 25 specified albums\n",
    "3. The broader the album, the less the number of them\n",
    "4. 50% of albums have only a single track, while 99 % of albums have at most about 45 tracks\n",
    "5. There are very few albums with at least 200 tracks - the corresponding tracks are usually related to some podcasts or tv shows tapes"
   ]
  },
  {
   "cell_type": "markdown",
   "id": "ccc4aeb7",
   "metadata": {},
   "source": [
    "## <p style=\"color: #999900;\"> 5. Artist-related analysis </p>"
   ]
  },
  {
   "cell_type": "code",
   "execution_count": 8,
   "id": "e3dc9459",
   "metadata": {},
   "outputs": [
    {
     "name": "stdout",
     "output_type": "stream",
     "text": [
      "2024-11-09 16:34:07,533 [recsys_experiments] [read_parquet] - INFO: Read track_artists.parquet from /home/mle-user/mle_projects/recommendation_system_service/experiments/artifacts/preprocessing.\n",
      "----- ARTISTS PER ITEM -----\n",
      "\n",
      "|   track_id |   artist_count | track                                                                                   |\n",
      "|-----------:|---------------:|:----------------------------------------------------------------------------------------|\n",
      "|   32192493 |             26 | #ЖИТЬ                                                                                   |\n",
      "|   42952658 |             26 | #Жить                                                                                   |\n",
      "|   53500595 |             16 | Les portes du pénitencier, Medine, Orelsan, Gringe, Vincenzo, Soprano & Alonzo (Psy 4)) |\n",
      "|   24982259 |             16 | Love Song to the Earth                                                                  |\n",
      "|   25736095 |             16 | Love Song to the Earth                                                                  |\n",
      "|   25736096 |             16 | Love Song to the Earth                                                                  |\n",
      "|   25736154 |             16 | Love Song to the Earth                                                                  |\n",
      "|   39642813 |             13 | Feel It Still                                                                           |\n",
      "|   37888615 |             13 | Это нормально                                                                           |\n",
      "|   72126682 |             12 | I Think                                                                                 |\n",
      "\n",
      "Quantiles\n",
      "|    |   quantiles |   artist_count |\n",
      "|---:|------------:|---------------:|\n",
      "|  0 |       0.1   |              1 |\n",
      "|  1 |       0.2   |              1 |\n",
      "|  2 |       0.3   |              1 |\n",
      "|  3 |       0.4   |              1 |\n",
      "|  4 |       0.5   |              1 |\n",
      "|  5 |       0.6   |              1 |\n",
      "|  6 |       0.7   |              1 |\n",
      "|  7 |       0.8   |              2 |\n",
      "|  8 |       0.9   |              2 |\n",
      "|  9 |       0.95  |              3 |\n",
      "| 10 |       0.99  |              4 |\n",
      "| 11 |       0.999 |              6 |\n",
      "\n"
     ]
    },
    {
     "data": {
      "image/png": "[encoded data removed]",
      "text/plain": [
       "<Figure size 1000x577.5 with 1 Axes>"
      ]
     },
     "metadata": {},
     "output_type": "display_data"
    },
    {
     "name": "stdout",
     "output_type": "stream",
     "text": [
      "2024-11-09 16:34:09,640 [recsys_experiments] [custom_hist_multiplot] - INFO: custom_hist_multiplot saved to /home/mle-user/mle_projects/recommendation_system_service/experiments/artifacts/eda/assets/artists_per_item_hist.png\n",
      "----- ITEMS PER ARTIST -----\n",
      "\n",
      "Number of unique artists: 153581\n",
      "\n",
      "Most broad artists\n",
      "|   artist_id |   item_count | artist                    |\n",
      "|------------:|-------------:|:--------------------------|\n",
      "|      118708 |         2038 | Владимир Высоцкий         |\n",
      "|         171 |         1378 | сборник                   |\n",
      "|      139896 |         1273 | Armin van Buuren          |\n",
      "|        9170 |         1221 | Wolfgang  Amadeus Mozart  |\n",
      "|        1227 |         1130 | Johann  Sebastian  Bach   |\n",
      "|       11818 |         1058 | Hans Zimmer               |\n",
      "|        1551 |         1043 | Pyotr Ilyich  Tchaikovsky |\n",
      "|        3989 |         1021 | Frank Sinatra             |\n",
      "|       10987 |          975 | Elvis Presley             |\n",
      "|      188963 |          966 | Аквариум                  |\n",
      "\n",
      "Least broad artists\n",
      "|   artist_id |   item_count | artist         |\n",
      "|------------:|-------------:|:---------------|\n",
      "|     4132043 |            1 | 조원선         |\n",
      "|     7023929 |            1 | 진영 Jinyoung  |\n",
      "|     5506591 |            1 | 콜리           |\n",
      "|     4048836 |            1 | 크러쉬         |\n",
      "|     5516677 |            1 | 킬라그램       |\n",
      "|     3689053 |            1 | 프라이머리     |\n",
      "|     5752718 |            1 | 핑크퐁         |\n",
      "|     5978649 |            1 | 한국인         |\n",
      "|     8506036 |            1 | 홍가           |\n",
      "|    10626534 |            1 | 환상 속의 그대 |\n",
      "\n",
      "Quantiles\n",
      "|    |   quantiles |   item_count |\n",
      "|---:|------------:|-------------:|\n",
      "|  0 |       0.1   |         1    |\n",
      "|  1 |       0.2   |         1    |\n",
      "|  2 |       0.3   |         1    |\n",
      "|  3 |       0.4   |         1    |\n",
      "|  4 |       0.5   |         1    |\n",
      "|  5 |       0.6   |         2    |\n",
      "|  6 |       0.7   |         3    |\n",
      "|  7 |       0.8   |         6    |\n",
      "|  8 |       0.9   |        16    |\n",
      "|  9 |       0.95  |        34    |\n",
      "| 10 |       0.99  |       119    |\n",
      "| 11 |       0.999 |       371.26 |\n",
      "\n"
     ]
    },
    {
     "data": {
      "image/png": "[encoded data removed]",
      "text/plain": [
       "<Figure size 750x400 with 1 Axes>"
      ]
     },
     "metadata": {},
     "output_type": "display_data"
    },
    {
     "name": "stdout",
     "output_type": "stream",
     "text": [
      "2024-11-09 16:34:10,690 [recsys_experiments] [custom_hist_multiplot] - INFO: custom_hist_multiplot saved to /home/mle-user/mle_projects/recommendation_system_service/experiments/artifacts/eda/assets/items_per_artist_hist.png\n",
      "2024-11-09 16:34:10,690 [recsys_experiments] [category_analysis] - INFO: Finished artist analysis\n"
     ]
    }
   ],
   "source": [
    "component.category_analysis('artist', yscale='log')"
   ]
  },
  {
   "cell_type": "markdown",
   "id": "da3a33b8",
   "metadata": {},
   "source": [
    "1. There are 153581 artists\n",
    "2. The most popular artists are indeed the ones that are popular in real life. Although, the term \"artist\" does not correspond to a person for given data - \"artist\" can refer to a group of people, or even to a album of some sort\n",
    "3. 70% of tracks have only a single artist, while 99 % of tracks have at most 4 different artists\n",
    "4. There are very few outlier tracks with more than 6 different artists specified.\n",
    "5. The popular the artist, the lower the number of them\n",
    "6. 50% of artists made only a single track, while 99 % of atists made at most about 120 tracks \n",
    "7. There are very few artists that made at least 750 tracks"
   ]
  },
  {
   "cell_type": "markdown",
   "id": "6e895bc2",
   "metadata": {},
   "source": [
    "## <p style=\"color: #999900;\"> 6. Logging </p>"
   ]
  },
  {
   "cell_type": "code",
   "execution_count": 9,
   "id": "45d2d2c2",
   "metadata": {},
   "outputs": [
    {
     "name": "stdout",
     "output_type": "stream",
     "text": [
      "2024-11-09 16:34:13,154 [recsys_experiments] [get_experiment_id] - INFO: Experiment 'recsys_yandex_music' exists\n"
     ]
    },
    {
     "name": "stderr",
     "output_type": "stream",
     "text": [
      "2024/11/09 16:34:14 INFO mlflow.tracking._tracking_service.client: 🏃 View run eda at: http://127.0.0.1:5000/#/experiments/15/runs/5436a7fa8c254721b2983eadbe7ef4a7.\n",
      "2024/11/09 16:34:14 INFO mlflow.tracking._tracking_service.client: 🧪 View experiment at: http://127.0.0.1:5000/#/experiments/15.\n"
     ]
    }
   ],
   "source": [
    "component.log()"
   ]
  },
  {
   "cell_type": "code",
   "execution_count": null,
   "id": "4b6a9f9a",
   "metadata": {},
   "outputs": [
    {
     "ename": "",
     "evalue": "",
     "output_type": "error",
     "traceback": [
      "\u001b[1;31mThe Kernel crashed while executing code in the current cell or a previous cell. \n",
      "\u001b[1;31mPlease review the code in the cell(s) to identify a possible cause of the failure. \n",
      "\u001b[1;31mClick <a href='https://aka.ms/vscodeJupyterKernelCrash'>here</a> for more info. \n",
      "\u001b[1;31mView Jupyter <a href='command:jupyter.viewOutput'>log</a> for further details."
     ]
    }
   ],
   "source": [
    "exit(0)"
   ]
  },
  {
   "cell_type": "markdown",
   "id": "0d850a07-ef1e-462f-891a-1cf89f2e24ef",
   "metadata": {},
   "source": [
    "# <p style=\"color: #33FF33; text-align:center;\"> STAGE III. Data Preparation </p>"
   ]
  },
  {
   "cell_type": "markdown",
   "id": "a4e7fe16",
   "metadata": {},
   "source": [
    "<p style=\"color: #FF0000; font-size:24px;\"> Restart the notebook before proceeding </p>"
   ]
  },
  {
   "cell_type": "markdown",
   "id": "c54c3ca3",
   "metadata": {},
   "source": [
    "It was shown that the sparsity is too high. Therefore, there are two ways to train a recommendation model:\n",
    "- using `Spark`\n",
    "- using `scipy sparse matrix`\n",
    "\n",
    "It was tested that, the second way is much faster and consumes a lot less RAM. \n",
    "\n",
    "Therefore, it is necessary to build sparse matrices - for user-items data and item-features data"
   ]
  },
  {
   "cell_type": "markdown",
   "id": "ae0e9f82",
   "metadata": {},
   "source": [
    "## <p style=\"color: #999900;\"> 1. Encoding user ID and item ID </p>"
   ]
  },
  {
   "cell_type": "markdown",
   "id": "fa66f250",
   "metadata": {},
   "source": [
    "This section is necessary in order to build a sparse matrix for user-items data.\n",
    "\n",
    "The process is done iteratively over partitions, so that less RAM is consumed."
   ]
  },
  {
   "cell_type": "code",
   "execution_count": 5,
   "id": "9ab8a164",
   "metadata": {},
   "outputs": [],
   "source": [
    "component = MatrixBuilderComponent(print_info=True)"
   ]
  },
  {
   "cell_type": "code",
   "execution_count": 4,
   "id": "2a658b76",
   "metadata": {},
   "outputs": [
    {
     "name": "stderr",
     "output_type": "stream",
     "text": [
      "Processing partitions: 100%|██████████| 8/8 [01:43<00:00, 12.88s/it]"
     ]
    },
    {
     "name": "stdout",
     "output_type": "stream",
     "text": [
      "2024-11-09 16:37:16,566 [recsys_experiments] [fit_encoders] - INFO: Processed all partitions\n",
      "2024-11-09 16:37:16,730 [recsys_experiments] [fit_encoders] - INFO: Fitted an encoder for item ID\n",
      "2024-11-09 16:37:16,739 [recsys_experiments] [save_pkl] - INFO: Model has been saved to /home/mle-user/mle_projects/recommendation_system_service/experiments/artifacts/matrices/encoder_item.pkl\n"
     ]
    },
    {
     "name": "stderr",
     "output_type": "stream",
     "text": [
      "\n"
     ]
    },
    {
     "name": "stdout",
     "output_type": "stream",
     "text": [
      "2024-11-09 16:37:16,826 [recsys_experiments] [fit_encoders] - INFO: Fitted an encoder for user ID\n",
      "2024-11-09 16:37:16,837 [recsys_experiments] [save_pkl] - INFO: Model has been saved to /home/mle-user/mle_projects/recommendation_system_service/experiments/artifacts/matrices/encoder_user.pkl\n"
     ]
    }
   ],
   "source": [
    "component.fit_encoders()"
   ]
  },
  {
   "cell_type": "markdown",
   "id": "87281f7c",
   "metadata": {},
   "source": [
    "## <p style=\"color: #999900;\"> 2. Building item-features matrices </p>"
   ]
  },
  {
   "cell_type": "markdown",
   "id": "0cd13a1e",
   "metadata": {},
   "source": [
    "A separate matrix is built for each item-feature (genre, artist, album) with the corresponding feature encoder"
   ]
  },
  {
   "cell_type": "code",
   "execution_count": 5,
   "id": "f99a1c7f",
   "metadata": {},
   "outputs": [
    {
     "name": "stdout",
     "output_type": "stream",
     "text": [
      "2024-11-09 16:42:39,405 [recsys_experiments] [read_pkl] - INFO: Model /home/mle-user/mle_projects/recommendation_system_service/experiments/artifacts/matrices/encoder_item.pkl has been loaded\n"
     ]
    },
    {
     "name": "stderr",
     "output_type": "stream",
     "text": [
      "Processing features:   0%|          | 0/3 [00:00<?, ?it/s]"
     ]
    },
    {
     "name": "stdout",
     "output_type": "stream",
     "text": [
      "2024-11-09 16:42:39,492 [recsys_experiments] [build_item_features_matrices] - INFO: Read item-album dataframe\n",
      "2024-11-09 16:42:39,668 [recsys_experiments] [build_item_features_matrices] - INFO: Left with 3128460 (99.99%) training items\n",
      "2024-11-09 16:42:40,025 [recsys_experiments] [build_item_features_matrices] - INFO: Fitted an encoder for feature 'album'\n",
      "2024-11-09 16:42:40,029 [recsys_experiments] [save_pkl] - INFO: Model has been saved to /home/mle-user/mle_projects/recommendation_system_service/experiments/artifacts/matrices/encoder_album.pkl\n",
      "2024-11-09 16:42:40,079 [recsys_experiments] [build_item_features_matrices] - INFO: Built item-album sparse matrix\n",
      "2024-11-09 16:42:41,288 [recsys_experiments] [build_item_features_matrices] - INFO: item-album matrix info: number of items - 999695, number of features - 658561, number of data points - 3128460, sparsity - 99.9995%\n"
     ]
    },
    {
     "name": "stderr",
     "output_type": "stream",
     "text": [
      "Processing features:  33%|███▎      | 1/3 [00:01<00:03,  1.88s/it]"
     ]
    },
    {
     "name": "stdout",
     "output_type": "stream",
     "text": [
      "2024-11-09 16:42:41,346 [recsys_experiments] [build_item_features_matrices] - INFO: Read item-artist dataframe\n",
      "2024-11-09 16:42:41,468 [recsys_experiments] [build_item_features_matrices] - INFO: Left with 1263808 (99.97%) training items\n",
      "2024-11-09 16:42:41,664 [recsys_experiments] [build_item_features_matrices] - INFO: Fitted an encoder for feature 'artist'\n",
      "2024-11-09 16:42:41,666 [recsys_experiments] [save_pkl] - INFO: Model has been saved to /home/mle-user/mle_projects/recommendation_system_service/experiments/artifacts/matrices/encoder_artist.pkl\n",
      "2024-11-09 16:42:41,715 [recsys_experiments] [build_item_features_matrices] - INFO: Built item-artist sparse matrix\n",
      "2024-11-09 16:42:42,580 [recsys_experiments] [build_item_features_matrices] - INFO: item-artist matrix info: number of items - 999695, number of features - 153549, number of data points - 1263808, sparsity - 99.9992%\n"
     ]
    },
    {
     "name": "stderr",
     "output_type": "stream",
     "text": [
      "Processing features:  67%|██████▋   | 2/3 [00:03<00:01,  1.53s/it]"
     ]
    },
    {
     "name": "stdout",
     "output_type": "stream",
     "text": [
      "2024-11-09 16:42:42,637 [recsys_experiments] [build_item_features_matrices] - INFO: Read item-genre dataframe\n",
      "2024-11-09 16:42:42,757 [recsys_experiments] [build_item_features_matrices] - INFO: Left with 1652175 (99.97%) training items\n",
      "2024-11-09 16:42:43,025 [recsys_experiments] [build_item_features_matrices] - INFO: Fitted an encoder for feature 'genre'\n",
      "2024-11-09 16:42:43,026 [recsys_experiments] [save_pkl] - INFO: Model has been saved to /home/mle-user/mle_projects/recommendation_system_service/experiments/artifacts/matrices/encoder_genre.pkl\n",
      "2024-11-09 16:42:43,062 [recsys_experiments] [build_item_features_matrices] - INFO: Built item-genre sparse matrix\n",
      "2024-11-09 16:42:43,651 [recsys_experiments] [build_item_features_matrices] - INFO: item-genre matrix info: number of items - 999695, number of features - 173, number of data points - 1652175, sparsity - 99.0447%\n"
     ]
    },
    {
     "name": "stderr",
     "output_type": "stream",
     "text": [
      "Processing features: 100%|██████████| 3/3 [00:04<00:00,  1.42s/it]\n"
     ]
    }
   ],
   "source": [
    "component.build_item_features_matrices()"
   ]
  },
  {
   "cell_type": "markdown",
   "id": "c21e893f",
   "metadata": {},
   "source": [
    "It can be seen, that the sparsity rate is big for each matrix."
   ]
  },
  {
   "cell_type": "markdown",
   "id": "0fdd4c5d",
   "metadata": {},
   "source": [
    "## <p style=\"color: #999900;\"> 3. Building user-items matrix </p>"
   ]
  },
  {
   "cell_type": "markdown",
   "id": "c253fa1e",
   "metadata": {},
   "source": [
    "The matrix is filled in separately for each partition, so that less RAM is consumed."
   ]
  },
  {
   "cell_type": "code",
   "execution_count": 6,
   "id": "cdd28401",
   "metadata": {},
   "outputs": [
    {
     "name": "stdout",
     "output_type": "stream",
     "text": [
      "2024-11-09 17:00:24,818 [recsys_experiments] [read_pkl] - INFO: Model /home/mle-user/mle_projects/recommendation_system_service/experiments/artifacts/matrices/encoder_user.pkl has been loaded\n",
      "2024-11-09 17:00:24,824 [recsys_experiments] [read_pkl] - INFO: Model /home/mle-user/mle_projects/recommendation_system_service/experiments/artifacts/matrices/encoder_item.pkl has been loaded\n",
      "2024-11-09 17:00:24,825 [recsys_experiments] [build_user_items_matrix] - INFO: Initialized empty user-items sparse matrix\n"
     ]
    },
    {
     "name": "stderr",
     "output_type": "stream",
     "text": [
      "Processing partitions:   0%|          | 0/8 [00:00<?, ?it/s]"
     ]
    },
    {
     "name": "stderr",
     "output_type": "stream",
     "text": [
      "Processing partitions: 100%|██████████| 8/8 [01:21<00:00, 10.21s/it]"
     ]
    },
    {
     "name": "stdout",
     "output_type": "stream",
     "text": [
      "2024-11-09 17:01:46,474 [recsys_experiments] [build_user_items_matrix] - INFO: Build user-items sparse matrix\n"
     ]
    },
    {
     "name": "stderr",
     "output_type": "stream",
     "text": [
      "\n"
     ]
    },
    {
     "name": "stdout",
     "output_type": "stream",
     "text": [
      "2024-11-09 17:02:33,450 [recsys_experiments] [build_user_items_matrix] - INFO: user-items matrix info: number of users - 1342566, number of items - 999695, number of events - 208731252, sparsity - 99.98%\n"
     ]
    }
   ],
   "source": [
    "component.build_user_items_matrix()"
   ]
  },
  {
   "cell_type": "markdown",
   "id": "c005a2df",
   "metadata": {},
   "source": [
    "Logging"
   ]
  },
  {
   "cell_type": "code",
   "execution_count": 7,
   "id": "06bf7a7d",
   "metadata": {},
   "outputs": [
    {
     "name": "stdout",
     "output_type": "stream",
     "text": [
      "2024-11-09 17:03:13,335 [recsys_experiments] [get_experiment_id] - INFO: Experiment 'recsys_yandex_music' exists\n"
     ]
    },
    {
     "name": "stderr",
     "output_type": "stream",
     "text": [
      "2024/11/09 17:03:16 INFO mlflow.tracking._tracking_service.client: 🏃 View run matrices at: http://127.0.0.1:5000/#/experiments/15/runs/7bbc70d4ed38428d93c25cd2acf50cec.\n",
      "2024/11/09 17:03:16 INFO mlflow.tracking._tracking_service.client: 🧪 View experiment at: http://127.0.0.1:5000/#/experiments/15.\n"
     ]
    }
   ],
   "source": [
    "component.log()"
   ]
  },
  {
   "cell_type": "code",
   "execution_count": null,
   "id": "7d778082",
   "metadata": {},
   "outputs": [
    {
     "ename": "",
     "evalue": "",
     "output_type": "error",
     "traceback": [
      "\u001b[1;31mThe Kernel crashed while executing code in the current cell or a previous cell. \n",
      "\u001b[1;31mPlease review the code in the cell(s) to identify a possible cause of the failure. \n",
      "\u001b[1;31mClick <a href='https://aka.ms/vscodeJupyterKernelCrash'>here</a> for more info. \n",
      "\u001b[1;31mView Jupyter <a href='command:jupyter.viewOutput'>log</a> for further details."
     ]
    }
   ],
   "source": [
    "exit(0)"
   ]
  },
  {
   "cell_type": "markdown",
   "id": "42fbe15e",
   "metadata": {},
   "source": [
    "## <p style=\"color: #999900;\"> 4. Creating user and item features </p>"
   ]
  },
  {
   "cell_type": "markdown",
   "id": "07ef8516",
   "metadata": {},
   "source": [
    "<p style=\"color: #FF0000; font-size:24px;\"> Restart the notebook before proceeding </p>"
   ]
  },
  {
   "cell_type": "markdown",
   "id": "b269c64c",
   "metadata": {},
   "source": [
    "Since a ranking model will be used over recommendation models, it might benefit from user and item features. Let's build most common ones using a separate component."
   ]
  },
  {
   "cell_type": "code",
   "execution_count": 3,
   "id": "b05c3119",
   "metadata": {},
   "outputs": [
    {
     "name": "stdout",
     "output_type": "stream",
     "text": [
      "2024-11-09 17:03:39,217 [recsys_experiments] [read_yaml] - INFO: YAML file /home/mle-user/mle_projects/recommendation_system_service/experiments/config/spark_config.yaml has been loaded\n"
     ]
    },
    {
     "name": "stderr",
     "output_type": "stream",
     "text": [
      "24/11/09 17:03:40 WARN Utils: Your hostname, epd8p8viml4bs7ctd2uc resolves to a loopback address: 127.0.1.1; using 10.129.0.85 instead (on interface eth0)\n",
      "24/11/09 17:03:40 WARN Utils: Set SPARK_LOCAL_IP if you need to bind to another address\n",
      "Setting default log level to \"WARN\".\n",
      "To adjust logging level use sc.setLogLevel(newLevel). For SparkR, use setLogLevel(newLevel).\n",
      "24/11/09 17:03:41 WARN NativeCodeLoader: Unable to load native-hadoop library for your platform... using builtin-java classes where applicable\n"
     ]
    }
   ],
   "source": [
    "component = FeaturesGeneratorComponent()"
   ]
  },
  {
   "cell_type": "code",
   "execution_count": 4,
   "id": "c5184b0b",
   "metadata": {},
   "outputs": [
    {
     "name": "stderr",
     "output_type": "stream",
     "text": [
      "                                                                                \r"
     ]
    },
    {
     "name": "stdout",
     "output_type": "stream",
     "text": [
      "2024-11-09 17:03:47,942 [recsys_experiments] [read_parquet] - INFO: Read events_train.parquet from /home/mle-user/mle_projects/recommendation_system_service/experiments/artifacts/preprocessing.\n"
     ]
    },
    {
     "name": "stderr",
     "output_type": "stream",
     "text": [
      "[Stage 9:>                                                          (0 + 1) / 1]\r"
     ]
    },
    {
     "name": "stdout",
     "output_type": "stream",
     "text": [
      "2024-11-09 17:04:39,975 [recsys_experiments] [save_parquet] - INFO: Saved item_features.parquet to /home/mle-user/mle_projects/recommendation_system_service/experiments/artifacts/features.\n",
      "2024-11-09 17:04:39,977 [recsys_experiments] [generate_item_features] - INFO: Generated item features saved to /home/mle-user/mle_projects/recommendation_system_service/experiments/artifacts/features.\n"
     ]
    },
    {
     "name": "stderr",
     "output_type": "stream",
     "text": [
      "                                                                                \r"
     ]
    }
   ],
   "source": [
    "component.generate_item_features()"
   ]
  },
  {
   "cell_type": "markdown",
   "id": "a6058299",
   "metadata": {},
   "source": [
    "The following features were generated for `items`:\n",
    "- `users_per_item`\n",
    "- `users_per_item` since last 7 or 30 days\n",
    "- the number of days since the first `interaction` for an `item`\n",
    "- the number of days since the last `interaction` for an `item`\n"
   ]
  },
  {
   "cell_type": "code",
   "execution_count": 5,
   "id": "c7eaf901",
   "metadata": {},
   "outputs": [
    {
     "name": "stdout",
     "output_type": "stream",
     "text": [
      "2024-11-09 17:04:40,090 [recsys_experiments] [read_parquet] - INFO: Read events_train.parquet from /home/mle-user/mle_projects/recommendation_system_service/experiments/artifacts/preprocessing.\n"
     ]
    },
    {
     "name": "stderr",
     "output_type": "stream",
     "text": [
      "[Stage 19:>                                                         (0 + 1) / 1]\r"
     ]
    },
    {
     "name": "stdout",
     "output_type": "stream",
     "text": [
      "2024-11-09 17:05:02,621 [recsys_experiments] [save_parquet] - INFO: Saved user_features.parquet to /home/mle-user/mle_projects/recommendation_system_service/experiments/artifacts/features.\n",
      "2024-11-09 17:05:02,622 [recsys_experiments] [generate_user_features] - INFO: Generated user features saved to /home/mle-user/mle_projects/recommendation_system_service/experiments/artifacts/features.\n"
     ]
    },
    {
     "name": "stderr",
     "output_type": "stream",
     "text": [
      "                                                                                \r"
     ]
    }
   ],
   "source": [
    "component.generate_user_features()"
   ]
  },
  {
   "cell_type": "markdown",
   "id": "8c18dea8",
   "metadata": {},
   "source": [
    "The following features were generated for `users`:\n",
    "- `items_per_user`\n",
    "- `items_per_user` since last 7 or 30 days\n",
    "- the number of days since the first `interaction` for a `user`\n",
    "- the number of days since the last `interaction` for a `user`\n"
   ]
  },
  {
   "cell_type": "markdown",
   "id": "9e2fbcb2",
   "metadata": {},
   "source": [
    "ALthough it is possible to come up with more features, let's leave it as it is for now.\n",
    "\n",
    "Logging"
   ]
  },
  {
   "cell_type": "code",
   "execution_count": 6,
   "id": "75c5917e",
   "metadata": {},
   "outputs": [
    {
     "name": "stdout",
     "output_type": "stream",
     "text": [
      "2024-11-09 17:05:02,740 [recsys_experiments] [get_experiment_id] - INFO: Experiment 'recsys_yandex_music' exists\n"
     ]
    },
    {
     "name": "stderr",
     "output_type": "stream",
     "text": [
      "2024/11/09 17:05:03 INFO mlflow.tracking._tracking_service.client: 🏃 View run features_generation at: http://127.0.0.1:5000/#/experiments/15/runs/1652c16167de45ddb4cdc0be7b81ac07.\n",
      "2024/11/09 17:05:03 INFO mlflow.tracking._tracking_service.client: 🧪 View experiment at: http://127.0.0.1:5000/#/experiments/15.\n"
     ]
    }
   ],
   "source": [
    "component.log()"
   ]
  },
  {
   "cell_type": "code",
   "execution_count": null,
   "id": "72c6985b",
   "metadata": {},
   "outputs": [
    {
     "ename": "",
     "evalue": "",
     "output_type": "error",
     "traceback": [
      "\u001b[1;31mThe Kernel crashed while executing code in the current cell or a previous cell. \n",
      "\u001b[1;31mPlease review the code in the cell(s) to identify a possible cause of the failure. \n",
      "\u001b[1;31mClick <a href='https://aka.ms/vscodeJupyterKernelCrash'>here</a> for more info. \n",
      "\u001b[1;31mView Jupyter <a href='command:jupyter.viewOutput'>log</a> for further details."
     ]
    }
   ],
   "source": [
    "exit(0)"
   ]
  },
  {
   "cell_type": "markdown",
   "id": "47b7ea22",
   "metadata": {},
   "source": [
    "# <p style=\"color: #33FF33; text-align:center;\"> STAGE IV. Modelling </p>"
   ]
  },
  {
   "cell_type": "markdown",
   "id": "6ca2cf0f",
   "metadata": {},
   "source": [
    "## <p style=\"color: #999900;\"> 1. Base recommendation models </p>"
   ]
  },
  {
   "cell_type": "markdown",
   "id": "5fa7c334",
   "metadata": {},
   "source": [
    "The base recommendation models will be:\n",
    "- ALS (Alternating Least Squares)\n",
    "- BPR (Bayesian Personalized Ranking)\n",
    "- Item2Item\n",
    "- top N popular items (top N items with the highest number of interactions)\n",
    "\n",
    "Item2Item model works with item-features matrix. Given a user ID and interactions history data (which items have been interacted with by a user), it computes an average item-features vector and then finds top items according to the similarity criteria. To speed up the computation, the following was used:\n",
    "- TruncatedSVD algorithm - reduces the number of item features\n",
    "- NearestNeighbors algorithm - a much faster computation of the closest item-features vectors for a given vector\n",
    "\n",
    "Speaking of adding top N popular items, it is important to note that only new `(user, item)` pairs will be added to the data, so that the `Novelty` is equal to 1\n",
    "\n",
    "As it was pointed out, it is essential to omit too unpopular items in order to improve the quality of the recommendations. The following cut-off values for the number of users per item will be used:\n",
    "- ALS: 300\n",
    "- BPR: 300\n",
    "- Item2Item: 1000"
   ]
  },
  {
   "cell_type": "markdown",
   "id": "4ebbdaa6",
   "metadata": {},
   "source": [
    "### <p style=\"color: #999900;\"> I. ALS model </p>"
   ]
  },
  {
   "cell_type": "markdown",
   "id": "e27f0846",
   "metadata": {},
   "source": [
    "<p style=\"color: #FF0000; font-size:20px;\"> Restart the notebook before proceeding </p>"
   ]
  },
  {
   "cell_type": "code",
   "execution_count": 4,
   "id": "5af1f9ee",
   "metadata": {},
   "outputs": [],
   "source": [
    "model = ALSModelComponent()"
   ]
  },
  {
   "cell_type": "code",
   "execution_count": 4,
   "id": "f1172634",
   "metadata": {},
   "outputs": [
    {
     "name": "stdout",
     "output_type": "stream",
     "text": [
      "2024-11-09 11:49:57,115 [recsys_experiments] [read_pkl] - INFO: Model /home/ubuntu2/recommendation_system_service/experiments/artifacts/matrices/encoder_item.pkl has been loaded\n",
      "2024-11-09 11:49:57,136 [recsys_experiments] [read_pkl] - INFO: Model /home/ubuntu2/recommendation_system_service/experiments/artifacts/matrices/encoder_user.pkl has been loaded\n",
      "2024-11-09 11:50:07 [ALS] [fit] - INFO: Left with 95665 (9.57%) popular items\n",
      "2024-11-09 11:50:08 [ALS] [fit] - INFO: Left with 1334693 (99.41%) active users\n",
      "2024-11-09 11:50:08 [ALS] [fit] - INFO: Fitted item_id encoder\n",
      "2024-11-09 11:50:08 [ALS] [fit] - INFO: Fitted user_id encoder\n"
     ]
    },
    {
     "name": "stderr",
     "output_type": "stream",
     "text": [
      "100%|██████████| 15/15 [02:26<00:00,  9.77s/it, loss=0.00114]"
     ]
    },
    {
     "name": "stdout",
     "output_type": "stream",
     "text": [
      "2024-11-09 11:52:44 [ALS] [fit] - INFO: Fitted ALS model\n"
     ]
    },
    {
     "name": "stderr",
     "output_type": "stream",
     "text": [
      "\n"
     ]
    },
    {
     "name": "stdout",
     "output_type": "stream",
     "text": [
      "2024-11-09 11:52:44,789 [recsys_experiments] [fit] - INFO: Trained ALS model\n",
      "2024-11-09 11:52:46,408 [recsys_experiments] [fit] - INFO: Saved ALS model\n",
      "2024-11-09 11:52:47 [ALS] [get_similar_items] - INFO: Generated similar items\n",
      "2024-11-09 11:52:48 [ALS] [get_similar_items] - INFO: Prepared a dataframe with similar items\n",
      "2024-11-09 11:52:48,181 [recsys_experiments] [fit] - INFO: Saved similar items data\n"
     ]
    }
   ],
   "source": [
    "model.fit()"
   ]
  },
  {
   "cell_type": "code",
   "execution_count": 6,
   "id": "ab8cd548",
   "metadata": {},
   "outputs": [
    {
     "name": "stdout",
     "output_type": "stream",
     "text": [
      "2024-11-09 11:53:23,027 [recsys_experiments] [recommend] - INFO: Loaded user_items_matrix\n",
      "2024-11-09 11:53:23,165 [recsys_experiments] [recommend] - INFO: Retrieved user IDs for subset 'target'\n",
      "2024-11-09 11:53:24,926 [recsys_experiments] [read_pkl] - INFO: Model /home/ubuntu2/recommendation_system_service/experiments/artifacts/modelling/als/als.pkl has been loaded\n",
      "2024-11-09 11:53:25 [ALS] [recommend] - INFO: Found 659193 (96.85%) users from 680623 in the model\n",
      "2024-11-09 11:53:30 [ALS] [recommend] - INFO: Filtered user_items_matrix\n",
      "2024-11-09 11:53:40 [ALS] [recommend] - INFO: Generated recommendations\n",
      "2024-11-09 11:53:49 [ALS] [recommend] - INFO: Prepared a Dataframe with recommendations\n",
      "2024-11-09 11:53:50,157 [recsys_experiments] [recommend] - INFO: Saved recommendations for subset 'target'\n"
     ]
    }
   ],
   "source": [
    "model.recommend(subset='target')"
   ]
  },
  {
   "cell_type": "code",
   "execution_count": 8,
   "id": "c2b8b295",
   "metadata": {},
   "outputs": [
    {
     "name": "stdout",
     "output_type": "stream",
     "text": [
      "2024-11-09 11:54:50,492 [recsys_experiments] [recommend] - INFO: Loaded user_items_matrix\n",
      "2024-11-09 11:54:50,597 [recsys_experiments] [recommend] - INFO: Retrieved user IDs for subset 'test'\n",
      "2024-11-09 11:54:52,287 [recsys_experiments] [read_pkl] - INFO: Model /home/ubuntu2/recommendation_system_service/experiments/artifacts/modelling/als/als.pkl has been loaded\n",
      "2024-11-09 11:54:52 [ALS] [recommend] - INFO: Found 572152 (94.39%) users from 606174 in the model\n",
      "2024-11-09 11:54:57 [ALS] [recommend] - INFO: Filtered user_items_matrix\n",
      "2024-11-09 11:55:05 [ALS] [recommend] - INFO: Generated recommendations\n",
      "2024-11-09 11:55:13 [ALS] [recommend] - INFO: Prepared a Dataframe with recommendations\n",
      "2024-11-09 11:55:13,865 [recsys_experiments] [recommend] - INFO: Saved recommendations for subset 'test'\n"
     ]
    }
   ],
   "source": [
    "model.recommend(subset='test')"
   ]
  },
  {
   "cell_type": "code",
   "execution_count": 6,
   "id": "64766f9c",
   "metadata": {},
   "outputs": [
    {
     "name": "stderr",
     "output_type": "stream",
     "text": [
      "Evaluating recommendations: 100%|██████████| 606174/606174 [00:45<00:00, 13203.66it/s]"
     ]
    },
    {
     "name": "stdout",
     "output_type": "stream",
     "text": [
      "2024-11-09 11:57:09,875 [recsys_experiments] [evaluate_recommendations] - INFO: Metrics for K=10: {'Precision@10': 0.005764620763661154, 'Recall@10': 0.018210318408416085, 'NDCG@10': 0.012176213783975971, 'CoverageItem@10': 0.019404056183845875, 'CoverageUser@10': 0.9438742011369673}\n"
     ]
    },
    {
     "name": "stderr",
     "output_type": "stream",
     "text": [
      "\n"
     ]
    },
    {
     "name": "stdout",
     "output_type": "stream",
     "text": [
      "2024-11-09 11:57:10,173 [recsys_experiments] [save_yaml] - INFO: YAML file /home/ubuntu2/recommendation_system_service/experiments/artifacts/modelling/als/metrics.yaml has been written successfully.\n"
     ]
    }
   ],
   "source": [
    "model.evaluate()"
   ]
  },
  {
   "cell_type": "code",
   "execution_count": 5,
   "id": "f200cba2",
   "metadata": {},
   "outputs": [
    {
     "name": "stdout",
     "output_type": "stream",
     "text": [
      "2024-11-09 17:06:06,656 [recsys_experiments] [get_experiment_id] - INFO: Experiment 'recsys_yandex_music' exists\n",
      "2024-11-09 17:06:12,663 [recsys_experiments] [read_yaml] - INFO: YAML file /home/mle-user/mle_projects/recommendation_system_service/experiments/artifacts/modelling/als/metrics.yaml has been loaded\n"
     ]
    },
    {
     "name": "stderr",
     "output_type": "stream",
     "text": [
      "2024/11/09 17:06:12 INFO mlflow.tracking._tracking_service.client: 🏃 View run base_model_als at: http://127.0.0.1:5000/#/experiments/15/runs/3f35d88219bd4ca99c262f82f4926db7.\n",
      "2024/11/09 17:06:12 INFO mlflow.tracking._tracking_service.client: 🧪 View experiment at: http://127.0.0.1:5000/#/experiments/15.\n"
     ]
    }
   ],
   "source": [
    "model.log()"
   ]
  },
  {
   "cell_type": "code",
   "execution_count": null,
   "id": "387ec9ac",
   "metadata": {},
   "outputs": [
    {
     "ename": "",
     "evalue": "",
     "output_type": "error",
     "traceback": [
      "\u001b[1;31mThe Kernel crashed while executing code in the current cell or a previous cell. \n",
      "\u001b[1;31mPlease review the code in the cell(s) to identify a possible cause of the failure. \n",
      "\u001b[1;31mClick <a href='https://aka.ms/vscodeJupyterKernelCrash'>here</a> for more info. \n",
      "\u001b[1;31mView Jupyter <a href='command:jupyter.viewOutput'>log</a> for further details."
     ]
    }
   ],
   "source": [
    "exit(0)"
   ]
  },
  {
   "cell_type": "markdown",
   "id": "ca1ecd47",
   "metadata": {},
   "source": [
    "### <p style=\"color: #999900;\"> II. BPR model </p>"
   ]
  },
  {
   "cell_type": "markdown",
   "id": "c337b09f",
   "metadata": {},
   "source": [
    "<p style=\"color: #FF0000; font-size:20px;\"> Restart the notebook before proceeding </p>"
   ]
  },
  {
   "cell_type": "code",
   "execution_count": 3,
   "id": "00e055dd",
   "metadata": {},
   "outputs": [],
   "source": [
    "model = BPRModelComponent()"
   ]
  },
  {
   "cell_type": "code",
   "execution_count": 6,
   "id": "874eade0",
   "metadata": {},
   "outputs": [
    {
     "name": "stdout",
     "output_type": "stream",
     "text": [
      "2024-11-09 11:59:07,845 [recsys_experiments] [read_pkl] - INFO: Model /home/ubuntu2/recommendation_system_service/experiments/artifacts/matrices/encoder_item.pkl has been loaded\n",
      "2024-11-09 11:59:07,853 [recsys_experiments] [read_pkl] - INFO: Model /home/ubuntu2/recommendation_system_service/experiments/artifacts/matrices/encoder_user.pkl has been loaded\n"
     ]
    },
    {
     "name": "stdout",
     "output_type": "stream",
     "text": [
      "2024-11-09 11:59:17 [BPR] [fit] - INFO: Filtered 95665 (9.57%) popular items\n",
      "2024-11-09 11:59:18 [BPR] [fit] - INFO: Filtered 1334693 (99.41%) active users\n",
      "2024-11-09 11:59:18 [BPR] [fit] - INFO: Fitted item_id encoder\n",
      "2024-11-09 11:59:18 [BPR] [fit] - INFO: Fitted user_id encoder\n"
     ]
    },
    {
     "name": "stderr",
     "output_type": "stream",
     "text": [
      "100%|██████████| 50/50 [04:25<00:00,  5.30s/it, train_auc=96.44%, skipped=2.98%]"
     ]
    },
    {
     "name": "stdout",
     "output_type": "stream",
     "text": [
      "2024-11-09 12:03:47 [BPR] [fit] - INFO: Fitted BPR model\n",
      "2024-11-09 12:03:47,601 [recsys_experiments] [fit] - INFO: Trained BPR model\n"
     ]
    },
    {
     "name": "stderr",
     "output_type": "stream",
     "text": [
      "\n"
     ]
    },
    {
     "name": "stdout",
     "output_type": "stream",
     "text": [
      "2024-11-09 12:03:49,388 [recsys_experiments] [fit] - INFO: Saved BPR model\n",
      "2024-11-09 12:03:52 [BPR] [get_similar_items] - INFO: Generated similar items\n",
      "2024-11-09 12:03:53 [BPR] [get_similar_items] - INFO: Prepared a Dataframe with similar items\n",
      "2024-11-09 12:03:53,010 [recsys_experiments] [fit] - INFO: Generated similar items\n",
      "2024-11-09 12:03:53,135 [recsys_experiments] [fit] - INFO: Saved similar items data\n"
     ]
    }
   ],
   "source": [
    "model.fit()"
   ]
  },
  {
   "cell_type": "code",
   "execution_count": 7,
   "id": "875b3cb0",
   "metadata": {},
   "outputs": [
    {
     "name": "stdout",
     "output_type": "stream",
     "text": [
      "2024-11-09 12:04:22,015 [recsys_experiments] [recommend] - INFO: Loaded user_items_matrix\n",
      "2024-11-09 12:04:22,187 [recsys_experiments] [recommend] - INFO: Retrieved user IDs for subset 'target'\n",
      "2024-11-09 12:04:23,713 [recsys_experiments] [read_pkl] - INFO: Model /home/ubuntu2/recommendation_system_service/experiments/artifacts/modelling/bpr/bpr.pkl has been loaded\n",
      "2024-11-09 12:04:24 [BPR] [recommend] - INFO: Found 659193 (96.85%) users from 680623 in the model\n",
      "2024-11-09 12:04:28 [BPR] [recommend] - INFO: Filtered user_items_matrix\n",
      "2024-11-09 12:04:38 [BPR] [recommend] - INFO: Generated recommendations\n",
      "2024-11-09 12:04:47 [BPR] [recommend] - INFO: Prepared a Dataframe with recommendations\n",
      "2024-11-09 12:04:48,031 [recsys_experiments] [recommend] - INFO: Saved recommendations for subset 'target'\n"
     ]
    }
   ],
   "source": [
    "model.recommend(subset='target')"
   ]
  },
  {
   "cell_type": "code",
   "execution_count": 8,
   "id": "41df6cb1",
   "metadata": {},
   "outputs": [
    {
     "name": "stdout",
     "output_type": "stream",
     "text": [
      "2024-11-09 12:04:53,734 [recsys_experiments] [recommend] - INFO: Loaded user_items_matrix\n",
      "2024-11-09 12:04:53,835 [recsys_experiments] [recommend] - INFO: Retrieved user IDs for subset 'test'\n",
      "2024-11-09 12:04:55,702 [recsys_experiments] [read_pkl] - INFO: Model /home/ubuntu2/recommendation_system_service/experiments/artifacts/modelling/bpr/bpr.pkl has been loaded\n",
      "2024-11-09 12:04:55 [BPR] [recommend] - INFO: Found 572152 (94.39%) users from 606174 in the model\n",
      "2024-11-09 12:05:00 [BPR] [recommend] - INFO: Filtered user_items_matrix\n",
      "2024-11-09 12:05:08 [BPR] [recommend] - INFO: Generated recommendations\n",
      "2024-11-09 12:05:16 [BPR] [recommend] - INFO: Prepared a Dataframe with recommendations\n",
      "2024-11-09 12:05:16,879 [recsys_experiments] [recommend] - INFO: Saved recommendations for subset 'test'\n"
     ]
    }
   ],
   "source": [
    "model.recommend(subset='test')"
   ]
  },
  {
   "cell_type": "code",
   "execution_count": 9,
   "id": "2294fae4",
   "metadata": {},
   "outputs": [
    {
     "name": "stderr",
     "output_type": "stream",
     "text": [
      "Evaluating recommendations: 100%|██████████| 606174/606174 [00:43<00:00, 13947.88it/s]"
     ]
    },
    {
     "name": "stdout",
     "output_type": "stream",
     "text": [
      "2024-11-09 12:06:21,050 [recsys_experiments] [evaluate_recommendations] - INFO: Metrics for K=10: {'Precision@10': 0.006119654128206073, 'Recall@10': 0.02109216769790034, 'NDCG@10': 0.014424761999565766, 'CoverageItem@10': 0.2000309209600266, 'CoverageUser@10': 0.9438742011369673}\n"
     ]
    },
    {
     "name": "stderr",
     "output_type": "stream",
     "text": [
      "\n"
     ]
    },
    {
     "name": "stdout",
     "output_type": "stream",
     "text": [
      "2024-11-09 12:06:21,331 [recsys_experiments] [save_yaml] - INFO: YAML file /home/ubuntu2/recommendation_system_service/experiments/artifacts/modelling/bpr/metrics.yaml has been written successfully.\n"
     ]
    }
   ],
   "source": [
    "model.evaluate()"
   ]
  },
  {
   "cell_type": "code",
   "execution_count": 4,
   "id": "db71e420",
   "metadata": {},
   "outputs": [
    {
     "name": "stdout",
     "output_type": "stream",
     "text": [
      "2024-11-09 17:06:27,554 [recsys_experiments] [get_experiment_id] - INFO: Experiment 'recsys_yandex_music' exists\n",
      "2024-11-09 17:06:33,170 [recsys_experiments] [read_yaml] - INFO: YAML file /home/mle-user/mle_projects/recommendation_system_service/experiments/artifacts/modelling/bpr/metrics.yaml has been loaded\n"
     ]
    },
    {
     "name": "stderr",
     "output_type": "stream",
     "text": [
      "2024/11/09 17:06:33 INFO mlflow.tracking._tracking_service.client: 🏃 View run base_model_bpr at: http://127.0.0.1:5000/#/experiments/15/runs/ab7b73e5aa6d41cb9f6ca59072bbc6c8.\n",
      "2024/11/09 17:06:33 INFO mlflow.tracking._tracking_service.client: 🧪 View experiment at: http://127.0.0.1:5000/#/experiments/15.\n"
     ]
    }
   ],
   "source": [
    "model.log()"
   ]
  },
  {
   "cell_type": "code",
   "execution_count": null,
   "id": "f5474a81",
   "metadata": {},
   "outputs": [],
   "source": [
    "exit(0)"
   ]
  },
  {
   "cell_type": "markdown",
   "id": "dd1730b0",
   "metadata": {},
   "source": [
    "### <p style=\"color: #999900;\"> III. Item2Item model </p>"
   ]
  },
  {
   "cell_type": "markdown",
   "id": "eb5fa71b",
   "metadata": {},
   "source": [
    "<p style=\"color: #FF0000; font-size:20px;\"> Restart the notebook before proceeding </p>"
   ]
  },
  {
   "cell_type": "code",
   "execution_count": 5,
   "id": "69cb2e5e",
   "metadata": {},
   "outputs": [],
   "source": [
    "model = Item2ItemModelComponent()"
   ]
  },
  {
   "cell_type": "code",
   "execution_count": null,
   "id": "2a5e23c7",
   "metadata": {},
   "outputs": [
    {
     "name": "stdout",
     "output_type": "stream",
     "text": [
      "2024-11-04 17:35:28,242 [fastapi_project] [read_pkl] - INFO: Model /home/ubuntu2/recommendation_system_service/experiments/artifacts/matrices/encoder_item.pkl has been loaded\n",
      "2024-11-04 17:35:28,249 [fastapi_project] [read_pkl] - INFO: Model /home/ubuntu2/recommendation_system_service/experiments/artifacts/matrices/encoder_user.pkl has been loaded\n",
      "2024-11-04 17:35:35 [Item2ItemModel] [fit] - INFO: Filtered 37674 (3.77%) popular items\n",
      "2024-11-04 17:35:35 [Item2ItemModel] [fit] - INFO: Filtered 81302 (10.01%) features with some data\n",
      "2024-11-04 17:35:39 [Item2ItemModel] [fit] - INFO: Filtered 1327258 (98.86%) active users\n",
      "2024-11-04 17:35:39 [Item2ItemModel] [fit] - INFO: Fitted item_id encoder\n",
      "2024-11-04 17:35:39 [Item2ItemModel] [fit] - INFO: Fitted user_id encoder\n",
      "2024-11-04 17:35:43 [Item2ItemModel] [fit] - INFO: Fitted TruncatedSVD model\n",
      "2024-11-04 17:35:43 [Item2ItemModel] [fit] - INFO: Total Explained Variance: 0.3040\n",
      "2024-11-04 17:35:43 [Item2ItemModel] [fit] - INFO: Fitted NearestNeighbors model\n"
     ]
    }
   ],
   "source": [
    "model.fit()"
   ]
  },
  {
   "cell_type": "code",
   "execution_count": null,
   "id": "d1590f30",
   "metadata": {},
   "outputs": [
    {
     "name": "stdout",
     "output_type": "stream",
     "text": [
      "2024-11-04 17:35:47,539 [fastapi_project] [recommend_for_subset] - INFO: User IDs have been retrieved for subset 'test'\n",
      "2024-11-04 17:35:47,582 [fastapi_project] [read_pkl] - INFO: Model /home/ubuntu2/recommendation_system_service/experiments/artifacts/modelling/item2item/item2item.pkl has been loaded\n",
      "2024-11-04 17:35:56 [Item2ItemModel] [recommend] - INFO: Found 568630 (93.81%) users from 606174 in the model\n"
     ]
    },
    {
     "name": "stderr",
     "output_type": "stream",
     "text": [
      "Processing batches: 100%|██████████| 1138/1138 [11:40<00:00,  1.62it/s]"
     ]
    },
    {
     "name": "stdout",
     "output_type": "stream",
     "text": [
      "2024-11-04 17:47:37,816 [fastapi_project] [recommend] - INFO: Recommendations have been made.\n",
      "2024-11-04 17:47:37,820 [fastapi_project] [recommend_for_subset] - INFO: Recommendations for subset 'test' have been saved.\n"
     ]
    },
    {
     "name": "stderr",
     "output_type": "stream",
     "text": [
      "\n"
     ]
    }
   ],
   "source": [
    "model.recommend(subset='test')"
   ]
  },
  {
   "cell_type": "code",
   "execution_count": null,
   "id": "8c572608",
   "metadata": {},
   "outputs": [
    {
     "name": "stdout",
     "output_type": "stream",
     "text": [
      "2024-11-04 17:54:23,763 [fastapi_project] [recommend_for_subset] - INFO: User IDs have been retrieved for subset 'target'\n",
      "2024-11-04 17:54:23,809 [fastapi_project] [read_pkl] - INFO: Model /home/ubuntu2/recommendation_system_service/experiments/artifacts/modelling/item2item/item2item.pkl has been loaded\n",
      "2024-11-04 17:54:32 [Item2ItemModel] [recommend] - INFO: Found 655923 (96.37%) users from 680623 in the model\n"
     ]
    },
    {
     "name": "stderr",
     "output_type": "stream",
     "text": [
      "Processing batches: 100%|██████████| 1312/1312 [12:40<00:00,  1.72it/s]"
     ]
    },
    {
     "name": "stdout",
     "output_type": "stream",
     "text": [
      "2024-11-04 18:07:13,563 [fastapi_project] [recommend] - INFO: Recommendations have been made.\n",
      "2024-11-04 18:07:13,567 [fastapi_project] [recommend_for_subset] - INFO: Recommendations for subset 'target' have been saved.\n"
     ]
    },
    {
     "name": "stderr",
     "output_type": "stream",
     "text": [
      "\n"
     ]
    }
   ],
   "source": [
    "model.recommend(subset='target')"
   ]
  },
  {
   "cell_type": "code",
   "execution_count": null,
   "id": "72a9d4ea",
   "metadata": {},
   "outputs": [],
   "source": [
    "model.evaluate()"
   ]
  },
  {
   "cell_type": "code",
   "execution_count": 6,
   "id": "bb3f5219",
   "metadata": {},
   "outputs": [
    {
     "name": "stdout",
     "output_type": "stream",
     "text": [
      "2024-11-09 17:06:45,629 [recsys_experiments] [get_experiment_id] - INFO: Experiment 'recsys_yandex_music' exists\n"
     ]
    },
    {
     "name": "stdout",
     "output_type": "stream",
     "text": [
      "2024-11-09 17:06:46,997 [recsys_experiments] [read_yaml] - INFO: YAML file /home/mle-user/mle_projects/recommendation_system_service/experiments/artifacts/modelling/item2item/metrics.yaml has been loaded\n"
     ]
    },
    {
     "name": "stderr",
     "output_type": "stream",
     "text": [
      "2024/11/09 17:06:47 INFO mlflow.tracking._tracking_service.client: 🏃 View run base_model_item2item at: http://127.0.0.1:5000/#/experiments/15/runs/097d791129d34ae493f613dcca9ee8ee.\n",
      "2024/11/09 17:06:47 INFO mlflow.tracking._tracking_service.client: 🧪 View experiment at: http://127.0.0.1:5000/#/experiments/15.\n"
     ]
    }
   ],
   "source": [
    "model.log()"
   ]
  },
  {
   "cell_type": "code",
   "execution_count": null,
   "id": "55d65d42",
   "metadata": {},
   "outputs": [],
   "source": [
    "exit(0)"
   ]
  },
  {
   "cell_type": "markdown",
   "id": "86de0227",
   "metadata": {},
   "source": [
    "### <p style=\"color: #999900;\"> IV. Top items recommendations </p>"
   ]
  },
  {
   "cell_type": "markdown",
   "id": "9f6db8b5",
   "metadata": {},
   "source": [
    "<p style=\"color: #FF0000; font-size:20px;\"> Restart the notebook before proceeding </p>"
   ]
  },
  {
   "cell_type": "code",
   "execution_count": 7,
   "id": "88ac7ea4",
   "metadata": {},
   "outputs": [],
   "source": [
    "model = TopItemsModelComponent()"
   ]
  },
  {
   "cell_type": "code",
   "execution_count": 4,
   "id": "0bb3645b",
   "metadata": {},
   "outputs": [
    {
     "name": "stdout",
     "output_type": "stream",
     "text": [
      "2024-11-09 15:28:04,949 [recsys_experiments] [read_pkl] - INFO: Model /home/ubuntu2/recommendation_system_service/experiments/artifacts/matrices/encoder_item.pkl has been loaded\n"
     ]
    },
    {
     "name": "stdout",
     "output_type": "stream",
     "text": [
      "2024-11-09 15:28:12,014 [recsys_experiments] [fit] - INFO: Retrieved top 100 most popular items\n",
      "2024-11-09 15:28:12,020 [recsys_experiments] [fit] - INFO: Saved top items data\n"
     ]
    }
   ],
   "source": [
    "model.fit()"
   ]
  },
  {
   "cell_type": "code",
   "execution_count": 5,
   "id": "3fb051c4",
   "metadata": {},
   "outputs": [
    {
     "name": "stdout",
     "output_type": "stream",
     "text": [
      "2024-11-09 15:28:15,364 [recsys_experiments] [recommend] - INFO: Retrieved user IDs for subset 'test'\n",
      "2024-11-09 15:28:15,370 [recsys_experiments] [recommend] - INFO: Loaded top items data\n",
      "2024-11-09 15:28:25,779 [recsys_experiments] [recommend] - INFO: Saved recommendations for subset 'test'\n"
     ]
    }
   ],
   "source": [
    "model.recommend(subset='test')"
   ]
  },
  {
   "cell_type": "code",
   "execution_count": 6,
   "id": "1934de10",
   "metadata": {},
   "outputs": [
    {
     "name": "stdout",
     "output_type": "stream",
     "text": [
      "2024-11-09 15:28:25,948 [recsys_experiments] [recommend] - INFO: Retrieved user IDs for subset 'target'\n",
      "2024-11-09 15:28:25,954 [recsys_experiments] [recommend] - INFO: Loaded top items data\n",
      "2024-11-09 15:28:36,478 [recsys_experiments] [recommend] - INFO: Saved recommendations for subset 'target'\n"
     ]
    }
   ],
   "source": [
    "model.recommend(subset='target')"
   ]
  },
  {
   "cell_type": "code",
   "execution_count": 7,
   "id": "8556df72",
   "metadata": {},
   "outputs": [
    {
     "name": "stderr",
     "output_type": "stream",
     "text": [
      "Evaluating recommendations: 100%|██████████| 606174/606174 [00:45<00:00, 13359.79it/s]"
     ]
    },
    {
     "name": "stdout",
     "output_type": "stream",
     "text": [
      "2024-11-09 15:29:52,485 [recsys_experiments] [evaluate_recommendations] - INFO: Metrics for K=10: {'Precision@10': 0.0031065337675320786, 'Recall@10': 0.0036854290098525576, 'NDCG@10': 0.004624472240539179, 'CoverageItem@10': 2.3075343303419995e-05, 'CoverageUser@10': 1.0}\n"
     ]
    },
    {
     "name": "stderr",
     "output_type": "stream",
     "text": [
      "\n"
     ]
    },
    {
     "name": "stdout",
     "output_type": "stream",
     "text": [
      "2024-11-09 15:29:52,768 [recsys_experiments] [save_yaml] - INFO: YAML file /home/ubuntu2/recommendation_system_service/experiments/artifacts/modelling/top_items/metrics.yaml has been written successfully.\n"
     ]
    }
   ],
   "source": [
    "model.evaluate()"
   ]
  },
  {
   "cell_type": "code",
   "execution_count": 8,
   "id": "672b0eaf",
   "metadata": {},
   "outputs": [
    {
     "name": "stdout",
     "output_type": "stream",
     "text": [
      "2024-11-09 17:06:51,062 [recsys_experiments] [get_experiment_id] - INFO: Experiment 'recsys_yandex_music' exists\n"
     ]
    },
    {
     "name": "stdout",
     "output_type": "stream",
     "text": [
      "2024-11-09 17:06:51,413 [recsys_experiments] [read_yaml] - INFO: YAML file /home/mle-user/mle_projects/recommendation_system_service/experiments/artifacts/modelling/top_items/metrics.yaml has been loaded\n"
     ]
    },
    {
     "name": "stderr",
     "output_type": "stream",
     "text": [
      "2024/11/09 17:06:51 INFO mlflow.tracking._tracking_service.client: 🏃 View run top_items at: http://127.0.0.1:5000/#/experiments/15/runs/59a8e24c9d30403a8a933e25ed0953e2.\n",
      "2024/11/09 17:06:51 INFO mlflow.tracking._tracking_service.client: 🧪 View experiment at: http://127.0.0.1:5000/#/experiments/15.\n"
     ]
    }
   ],
   "source": [
    "model.log()"
   ]
  },
  {
   "cell_type": "code",
   "execution_count": null,
   "id": "e89fd132",
   "metadata": {},
   "outputs": [],
   "source": [
    "exit(0)"
   ]
  },
  {
   "cell_type": "markdown",
   "id": "1e844a84",
   "metadata": {},
   "source": [
    "## <p style=\"color: #999900;\"> 2. Ranking model over base models </p>"
   ]
  },
  {
   "cell_type": "markdown",
   "id": "09f3d2c3",
   "metadata": {},
   "source": [
    "The ranking model will be a CatBoostClassifier, which can easily work with missing data (e.g. some user-item candidates might have only one score from a base model) and can handle different scaling"
   ]
  },
  {
   "cell_type": "markdown",
   "id": "41455e56",
   "metadata": {},
   "source": [
    "<p style=\"color: #FF0000; font-size:24px;\"> Restart the notebook before proceeding </p>"
   ]
  },
  {
   "cell_type": "code",
   "execution_count": 3,
   "id": "a583cd39",
   "metadata": {},
   "outputs": [],
   "source": [
    "model = EnsembleModelComponent()"
   ]
  },
  {
   "cell_type": "code",
   "execution_count": 23,
   "id": "13c705fa",
   "metadata": {},
   "outputs": [
    {
     "data": {
      "application/vnd.jupyter.widget-view+json": {
       "model_id": "a69c81ebae914618ac3a0ec5751998fd",
       "version_major": 2,
       "version_minor": 0
      },
      "text/plain": [
       "Merging train_df data:   0%|          | 0/3 [00:00<?, ?it/s]"
      ]
     },
     "metadata": {},
     "output_type": "display_data"
    },
    {
     "name": "stdout",
     "output_type": "stream",
     "text": [
      "2024-11-09 20:57:59,175 [recsys_experiments] [_merge_data] - INFO: Merged train_df data.\n",
      "2024-11-09 20:57:59,181 [recsys_experiments] [read_pkl] - INFO: Model /home/mle-user/mle_projects/recommendation_system_service/experiments/artifacts/matrices/encoder_item.pkl has been loaded\n",
      "2024-11-09 20:57:59,186 [recsys_experiments] [read_pkl] - INFO: Model /home/mle-user/mle_projects/recommendation_system_service/experiments/artifacts/matrices/encoder_user.pkl has been loaded\n",
      "2024-11-09 20:58:36,605 [recsys_experiments] [_add_top_items] - INFO: Added top items data.\n",
      "2024-11-09 20:58:46,735 [recsys_experiments] [_add_target] - INFO: Added target variable for train_df data.\n",
      "2024-11-09 20:58:46,900 [recsys_experiments] [_add_target] - INFO: Number of positive samples for train_df data: 177244 (0.7%) \n",
      "2024-11-09 20:58:50,171 [recsys_experiments] [_add_features] - INFO: Added `user` features\n",
      "2024-11-09 20:58:54,764 [recsys_experiments] [_add_features] - INFO: Added `item` features\n",
      "2024-11-09 20:59:09,727 [recsys_experiments] [prepare_data] - INFO: Prepared and saved train_df data.\n"
     ]
    },
    {
     "data": {
      "application/vnd.jupyter.widget-view+json": {
       "model_id": "79ef155a49064aec9a5b88938996b776",
       "version_major": 2,
       "version_minor": 0
      },
      "text/plain": [
       "Merging test_df data:   0%|          | 0/3 [00:00<?, ?it/s]"
      ]
     },
     "metadata": {},
     "output_type": "display_data"
    },
    {
     "name": "stdout",
     "output_type": "stream",
     "text": [
      "2024-11-09 20:59:30,794 [recsys_experiments] [_merge_data] - INFO: Merged test_df data.\n",
      "2024-11-09 20:59:30,808 [recsys_experiments] [read_pkl] - INFO: Model /home/mle-user/mle_projects/recommendation_system_service/experiments/artifacts/matrices/encoder_item.pkl has been loaded\n",
      "2024-11-09 20:59:30,812 [recsys_experiments] [read_pkl] - INFO: Model /home/mle-user/mle_projects/recommendation_system_service/experiments/artifacts/matrices/encoder_user.pkl has been loaded\n",
      "2024-11-09 21:00:04,338 [recsys_experiments] [_add_top_items] - INFO: Added top items data.\n",
      "2024-11-09 21:00:13,985 [recsys_experiments] [_add_target] - INFO: Added target variable for test_df data.\n",
      "2024-11-09 21:00:14,075 [recsys_experiments] [_add_target] - INFO: Number of positive samples for test_df data: 77476 (0.35%) \n",
      "2024-11-09 21:00:16,525 [recsys_experiments] [_add_features] - INFO: Added `user` features\n",
      "2024-11-09 21:00:20,717 [recsys_experiments] [_add_features] - INFO: Added `item` features\n",
      "2024-11-09 21:00:34,219 [recsys_experiments] [prepare_data] - INFO: Prepared and saved test_df data.\n"
     ]
    }
   ],
   "source": [
    "model.prepare_data()"
   ]
  },
  {
   "cell_type": "code",
   "execution_count": 4,
   "id": "4e04ea99",
   "metadata": {},
   "outputs": [
    {
     "name": "stdout",
     "output_type": "stream",
     "text": [
      "2024-11-09 21:04:43,564 [recsys_experiments] [fit] - INFO: Read train data\n",
      "2024-11-09 21:04:43,565 [recsys_experiments] [fit] - INFO: Initialized ensemble model as a CatBoostClassifier\n",
      "Learning rate set to 0.5\n",
      "0:\tlearn: 0.5540357\ttotal: 3.01s\tremaining: 9m 59s\n",
      "1:\tlearn: 0.4979717\ttotal: 5.69s\tremaining: 9m 23s\n",
      "2:\tlearn: 0.4744677\ttotal: 10.3s\tremaining: 11m 17s\n",
      "3:\tlearn: 0.4587833\ttotal: 14.2s\tremaining: 11m 33s\n",
      "4:\tlearn: 0.4486920\ttotal: 17.8s\tremaining: 11m 32s\n",
      "5:\tlearn: 0.4404324\ttotal: 20.7s\tremaining: 11m 9s\n",
      "6:\tlearn: 0.4342598\ttotal: 23.5s\tremaining: 10m 48s\n",
      "7:\tlearn: 0.4294657\ttotal: 26.4s\tremaining: 10m 33s\n",
      "8:\tlearn: 0.4263340\ttotal: 28.9s\tremaining: 10m 12s\n",
      "9:\tlearn: 0.4219380\ttotal: 31.7s\tremaining: 10m 1s\n",
      "10:\tlearn: 0.4185547\ttotal: 34.4s\tremaining: 9m 51s\n",
      "11:\tlearn: 0.4164287\ttotal: 37.3s\tremaining: 9m 44s\n",
      "12:\tlearn: 0.4131434\ttotal: 42.5s\tremaining: 10m 10s\n",
      "13:\tlearn: 0.4106314\ttotal: 46.7s\tremaining: 10m 20s\n",
      "14:\tlearn: 0.4090183\ttotal: 49.9s\tremaining: 10m 16s\n",
      "15:\tlearn: 0.4073081\ttotal: 53.3s\tremaining: 10m 12s\n",
      "16:\tlearn: 0.4059368\ttotal: 55.9s\tremaining: 10m 1s\n",
      "17:\tlearn: 0.4044236\ttotal: 58.9s\tremaining: 9m 55s\n",
      "18:\tlearn: 0.4037636\ttotal: 1m 1s\tremaining: 9m 47s\n",
      "19:\tlearn: 0.4029293\ttotal: 1m 4s\tremaining: 9m 40s\n",
      "20:\tlearn: 0.4018714\ttotal: 1m 7s\tremaining: 9m 36s\n",
      "21:\tlearn: 0.4006937\ttotal: 1m 11s\tremaining: 9m 37s\n",
      "22:\tlearn: 0.3997781\ttotal: 1m 14s\tremaining: 9m 33s\n",
      "23:\tlearn: 0.3988183\ttotal: 1m 19s\tremaining: 9m 43s\n",
      "24:\tlearn: 0.3982572\ttotal: 1m 22s\tremaining: 9m 36s\n",
      "25:\tlearn: 0.3978674\ttotal: 1m 25s\tremaining: 9m 31s\n",
      "26:\tlearn: 0.3973672\ttotal: 1m 28s\tremaining: 9m 26s\n",
      "27:\tlearn: 0.3968174\ttotal: 1m 31s\tremaining: 9m 20s\n",
      "28:\tlearn: 0.3964121\ttotal: 1m 34s\tremaining: 9m 14s\n",
      "29:\tlearn: 0.3958619\ttotal: 1m 36s\tremaining: 9m 8s\n",
      "30:\tlearn: 0.3954493\ttotal: 1m 40s\tremaining: 9m 6s\n",
      "31:\tlearn: 0.3949574\ttotal: 1m 43s\tremaining: 9m 4s\n",
      "32:\tlearn: 0.3944191\ttotal: 1m 47s\tremaining: 9m 2s\n",
      "33:\tlearn: 0.3940784\ttotal: 1m 50s\tremaining: 9m 1s\n",
      "34:\tlearn: 0.3934864\ttotal: 1m 53s\tremaining: 8m 57s\n",
      "35:\tlearn: 0.3929330\ttotal: 1m 56s\tremaining: 8m 51s\n",
      "36:\tlearn: 0.3924685\ttotal: 2m\tremaining: 8m 49s\n",
      "37:\tlearn: 0.3920047\ttotal: 2m 2s\tremaining: 8m 44s\n",
      "38:\tlearn: 0.3916337\ttotal: 2m 5s\tremaining: 8m 38s\n",
      "39:\tlearn: 0.3912322\ttotal: 2m 8s\tremaining: 8m 32s\n",
      "40:\tlearn: 0.3906041\ttotal: 2m 11s\tremaining: 8m 29s\n",
      "41:\tlearn: 0.3903538\ttotal: 2m 14s\tremaining: 8m 27s\n",
      "42:\tlearn: 0.3899050\ttotal: 2m 18s\tremaining: 8m 27s\n",
      "43:\tlearn: 0.3896877\ttotal: 2m 22s\tremaining: 8m 26s\n",
      "44:\tlearn: 0.3893544\ttotal: 2m 26s\tremaining: 8m 23s\n",
      "45:\tlearn: 0.3890827\ttotal: 2m 28s\tremaining: 8m 17s\n",
      "46:\tlearn: 0.3887241\ttotal: 2m 32s\tremaining: 8m 17s\n",
      "47:\tlearn: 0.3884930\ttotal: 2m 35s\tremaining: 8m 11s\n",
      "48:\tlearn: 0.3882419\ttotal: 2m 38s\tremaining: 8m 6s\n",
      "49:\tlearn: 0.3878797\ttotal: 2m 40s\tremaining: 8m 2s\n",
      "50:\tlearn: 0.3876373\ttotal: 2m 44s\tremaining: 8m\n",
      "51:\tlearn: 0.3873549\ttotal: 2m 47s\tremaining: 7m 57s\n",
      "52:\tlearn: 0.3869956\ttotal: 2m 51s\tremaining: 7m 55s\n",
      "53:\tlearn: 0.3867810\ttotal: 2m 54s\tremaining: 7m 51s\n",
      "54:\tlearn: 0.3866407\ttotal: 2m 57s\tremaining: 7m 47s\n",
      "55:\tlearn: 0.3864464\ttotal: 3m\tremaining: 7m 43s\n",
      "56:\tlearn: 0.3862965\ttotal: 3m 3s\tremaining: 7m 39s\n",
      "57:\tlearn: 0.3861745\ttotal: 3m 6s\tremaining: 7m 36s\n",
      "58:\tlearn: 0.3859724\ttotal: 3m 9s\tremaining: 7m 32s\n",
      "59:\tlearn: 0.3857661\ttotal: 3m 12s\tremaining: 7m 28s\n",
      "60:\tlearn: 0.3856376\ttotal: 3m 16s\tremaining: 7m 28s\n",
      "61:\tlearn: 0.3853600\ttotal: 3m 21s\tremaining: 7m 28s\n",
      "62:\tlearn: 0.3852056\ttotal: 3m 24s\tremaining: 7m 25s\n",
      "63:\tlearn: 0.3850936\ttotal: 3m 27s\tremaining: 7m 21s\n",
      "64:\tlearn: 0.3847700\ttotal: 3m 31s\tremaining: 7m 18s\n",
      "65:\tlearn: 0.3844773\ttotal: 3m 33s\tremaining: 7m 14s\n",
      "66:\tlearn: 0.3843635\ttotal: 3m 36s\tremaining: 7m 10s\n",
      "67:\tlearn: 0.3842492\ttotal: 3m 39s\tremaining: 7m 6s\n",
      "68:\tlearn: 0.3840315\ttotal: 3m 42s\tremaining: 7m 3s\n",
      "69:\tlearn: 0.3838560\ttotal: 3m 46s\tremaining: 6m 59s\n",
      "70:\tlearn: 0.3835496\ttotal: 3m 49s\tremaining: 6m 56s\n",
      "71:\tlearn: 0.3833480\ttotal: 3m 53s\tremaining: 6m 55s\n",
      "72:\tlearn: 0.3831941\ttotal: 3m 56s\tremaining: 6m 51s\n",
      "73:\tlearn: 0.3830053\ttotal: 3m 59s\tremaining: 6m 47s\n",
      "74:\tlearn: 0.3827609\ttotal: 4m 1s\tremaining: 6m 43s\n",
      "75:\tlearn: 0.3825980\ttotal: 4m 5s\tremaining: 6m 40s\n",
      "76:\tlearn: 0.3824292\ttotal: 4m 8s\tremaining: 6m 36s\n",
      "77:\tlearn: 0.3822864\ttotal: 4m 11s\tremaining: 6m 33s\n",
      "78:\tlearn: 0.3819744\ttotal: 4m 15s\tremaining: 6m 30s\n",
      "79:\tlearn: 0.3818011\ttotal: 4m 19s\tremaining: 6m 29s\n",
      "80:\tlearn: 0.3816946\ttotal: 4m 22s\tremaining: 6m 25s\n",
      "81:\tlearn: 0.3815486\ttotal: 4m 25s\tremaining: 6m 22s\n",
      "82:\tlearn: 0.3814348\ttotal: 4m 28s\tremaining: 6m 18s\n",
      "83:\tlearn: 0.3813579\ttotal: 4m 31s\tremaining: 6m 14s\n",
      "84:\tlearn: 0.3812365\ttotal: 4m 34s\tremaining: 6m 11s\n",
      "85:\tlearn: 0.3811199\ttotal: 4m 37s\tremaining: 6m 8s\n",
      "86:\tlearn: 0.3809344\ttotal: 4m 40s\tremaining: 6m 4s\n",
      "87:\tlearn: 0.3807837\ttotal: 4m 43s\tremaining: 6m 1s\n",
      "88:\tlearn: 0.3805605\ttotal: 4m 48s\tremaining: 5m 59s\n",
      "89:\tlearn: 0.3804591\ttotal: 4m 52s\tremaining: 5m 57s\n",
      "90:\tlearn: 0.3803197\ttotal: 4m 56s\tremaining: 5m 55s\n",
      "91:\tlearn: 0.3802004\ttotal: 4m 59s\tremaining: 5m 51s\n",
      "92:\tlearn: 0.3800938\ttotal: 5m 1s\tremaining: 5m 47s\n",
      "93:\tlearn: 0.3799577\ttotal: 5m 4s\tremaining: 5m 43s\n",
      "94:\tlearn: 0.3798731\ttotal: 5m 7s\tremaining: 5m 40s\n",
      "95:\tlearn: 0.3796770\ttotal: 5m 11s\tremaining: 5m 37s\n",
      "96:\tlearn: 0.3795955\ttotal: 5m 14s\tremaining: 5m 33s\n",
      "97:\tlearn: 0.3795332\ttotal: 5m 17s\tremaining: 5m 30s\n",
      "98:\tlearn: 0.3793222\ttotal: 5m 21s\tremaining: 5m 28s\n",
      "99:\tlearn: 0.3791329\ttotal: 5m 25s\tremaining: 5m 25s\n",
      "100:\tlearn: 0.3790157\ttotal: 5m 28s\tremaining: 5m 22s\n",
      "101:\tlearn: 0.3789048\ttotal: 5m 31s\tremaining: 5m 18s\n",
      "102:\tlearn: 0.3787449\ttotal: 5m 34s\tremaining: 5m 14s\n",
      "103:\tlearn: 0.3786701\ttotal: 5m 36s\tremaining: 5m 11s\n",
      "104:\tlearn: 0.3786068\ttotal: 5m 39s\tremaining: 5m 7s\n",
      "105:\tlearn: 0.3784789\ttotal: 5m 42s\tremaining: 5m 4s\n",
      "106:\tlearn: 0.3783989\ttotal: 5m 46s\tremaining: 5m\n",
      "107:\tlearn: 0.3783255\ttotal: 5m 48s\tremaining: 4m 57s\n",
      "108:\tlearn: 0.3781946\ttotal: 5m 54s\tremaining: 4m 56s\n",
      "109:\tlearn: 0.3780837\ttotal: 5m 59s\tremaining: 4m 54s\n",
      "110:\tlearn: 0.3779945\ttotal: 6m 3s\tremaining: 4m 51s\n",
      "111:\tlearn: 0.3779044\ttotal: 6m 5s\tremaining: 4m 47s\n",
      "112:\tlearn: 0.3777302\ttotal: 6m 8s\tremaining: 4m 43s\n",
      "113:\tlearn: 0.3776385\ttotal: 6m 11s\tremaining: 4m 40s\n",
      "114:\tlearn: 0.3775773\ttotal: 6m 14s\tremaining: 4m 36s\n",
      "115:\tlearn: 0.3774755\ttotal: 6m 18s\tremaining: 4m 33s\n",
      "116:\tlearn: 0.3773510\ttotal: 6m 21s\tremaining: 4m 30s\n",
      "117:\tlearn: 0.3772740\ttotal: 6m 24s\tremaining: 4m 27s\n",
      "118:\tlearn: 0.3771119\ttotal: 6m 27s\tremaining: 4m 24s\n",
      "119:\tlearn: 0.3769998\ttotal: 6m 32s\tremaining: 4m 21s\n",
      "120:\tlearn: 0.3768901\ttotal: 6m 35s\tremaining: 4m 18s\n",
      "121:\tlearn: 0.3768085\ttotal: 6m 38s\tremaining: 4m 14s\n",
      "122:\tlearn: 0.3767707\ttotal: 6m 40s\tremaining: 4m 10s\n",
      "123:\tlearn: 0.3766767\ttotal: 6m 43s\tremaining: 4m 7s\n",
      "124:\tlearn: 0.3765446\ttotal: 6m 46s\tremaining: 4m 4s\n",
      "125:\tlearn: 0.3763848\ttotal: 6m 49s\tremaining: 4m\n",
      "126:\tlearn: 0.3762677\ttotal: 6m 54s\tremaining: 3m 58s\n",
      "127:\tlearn: 0.3761863\ttotal: 6m 58s\tremaining: 3m 55s\n",
      "128:\tlearn: 0.3760218\ttotal: 7m 4s\tremaining: 3m 53s\n",
      "129:\tlearn: 0.3759280\ttotal: 7m 7s\tremaining: 3m 50s\n",
      "130:\tlearn: 0.3757786\ttotal: 7m 10s\tremaining: 3m 46s\n",
      "131:\tlearn: 0.3756729\ttotal: 7m 14s\tremaining: 3m 43s\n",
      "132:\tlearn: 0.3756013\ttotal: 7m 16s\tremaining: 3m 40s\n",
      "133:\tlearn: 0.3754718\ttotal: 7m 20s\tremaining: 3m 36s\n",
      "134:\tlearn: 0.3753625\ttotal: 7m 23s\tremaining: 3m 33s\n",
      "135:\tlearn: 0.3752993\ttotal: 7m 27s\tremaining: 3m 30s\n",
      "136:\tlearn: 0.3751914\ttotal: 7m 31s\tremaining: 3m 27s\n",
      "137:\tlearn: 0.3751009\ttotal: 7m 34s\tremaining: 3m 24s\n",
      "138:\tlearn: 0.3750107\ttotal: 7m 38s\tremaining: 3m 21s\n",
      "139:\tlearn: 0.3748942\ttotal: 7m 41s\tremaining: 3m 17s\n",
      "140:\tlearn: 0.3747871\ttotal: 7m 44s\tremaining: 3m 14s\n",
      "141:\tlearn: 0.3746964\ttotal: 7m 47s\tremaining: 3m 10s\n",
      "142:\tlearn: 0.3745609\ttotal: 7m 50s\tremaining: 3m 7s\n",
      "143:\tlearn: 0.3744404\ttotal: 7m 53s\tremaining: 3m 4s\n",
      "144:\tlearn: 0.3743503\ttotal: 7m 57s\tremaining: 3m 1s\n",
      "145:\tlearn: 0.3742800\ttotal: 8m 1s\tremaining: 2m 58s\n",
      "146:\tlearn: 0.3742501\ttotal: 8m 4s\tremaining: 2m 54s\n",
      "147:\tlearn: 0.3741759\ttotal: 8m 7s\tremaining: 2m 51s\n",
      "148:\tlearn: 0.3741316\ttotal: 8m 11s\tremaining: 2m 48s\n",
      "149:\tlearn: 0.3740816\ttotal: 8m 14s\tremaining: 2m 44s\n",
      "150:\tlearn: 0.3740438\ttotal: 8m 17s\tremaining: 2m 41s\n",
      "151:\tlearn: 0.3739701\ttotal: 8m 19s\tremaining: 2m 37s\n",
      "152:\tlearn: 0.3738966\ttotal: 8m 22s\tremaining: 2m 34s\n",
      "153:\tlearn: 0.3737930\ttotal: 8m 25s\tremaining: 2m 31s\n",
      "154:\tlearn: 0.3737038\ttotal: 8m 29s\tremaining: 2m 27s\n",
      "155:\tlearn: 0.3736003\ttotal: 8m 33s\tremaining: 2m 24s\n",
      "156:\tlearn: 0.3734858\ttotal: 8m 36s\tremaining: 2m 21s\n",
      "157:\tlearn: 0.3734150\ttotal: 8m 39s\tremaining: 2m 18s\n",
      "158:\tlearn: 0.3733182\ttotal: 8m 42s\tremaining: 2m 14s\n",
      "159:\tlearn: 0.3732453\ttotal: 8m 46s\tremaining: 2m 11s\n",
      "160:\tlearn: 0.3731744\ttotal: 8m 49s\tremaining: 2m 8s\n",
      "161:\tlearn: 0.3731274\ttotal: 8m 51s\tremaining: 2m 4s\n",
      "162:\tlearn: 0.3731006\ttotal: 8m 54s\tremaining: 2m 1s\n",
      "163:\tlearn: 0.3730450\ttotal: 8m 58s\tremaining: 1m 58s\n",
      "164:\tlearn: 0.3728909\ttotal: 9m 1s\tremaining: 1m 54s\n",
      "165:\tlearn: 0.3728402\ttotal: 9m 6s\tremaining: 1m 51s\n",
      "166:\tlearn: 0.3727764\ttotal: 9m 9s\tremaining: 1m 48s\n",
      "167:\tlearn: 0.3726984\ttotal: 9m 12s\tremaining: 1m 45s\n",
      "168:\tlearn: 0.3726440\ttotal: 9m 14s\tremaining: 1m 41s\n",
      "169:\tlearn: 0.3726056\ttotal: 9m 18s\tremaining: 1m 38s\n",
      "170:\tlearn: 0.3725173\ttotal: 9m 21s\tremaining: 1m 35s\n",
      "171:\tlearn: 0.3724619\ttotal: 9m 24s\tremaining: 1m 31s\n",
      "172:\tlearn: 0.3723945\ttotal: 9m 27s\tremaining: 1m 28s\n",
      "173:\tlearn: 0.3723203\ttotal: 9m 31s\tremaining: 1m 25s\n",
      "174:\tlearn: 0.3722486\ttotal: 9m 34s\tremaining: 1m 22s\n",
      "175:\tlearn: 0.3721982\ttotal: 9m 38s\tremaining: 1m 18s\n",
      "176:\tlearn: 0.3720822\ttotal: 9m 41s\tremaining: 1m 15s\n",
      "177:\tlearn: 0.3719997\ttotal: 9m 44s\tremaining: 1m 12s\n",
      "178:\tlearn: 0.3719522\ttotal: 9m 47s\tremaining: 1m 8s\n",
      "179:\tlearn: 0.3718297\ttotal: 9m 50s\tremaining: 1m 5s\n",
      "180:\tlearn: 0.3716307\ttotal: 9m 54s\tremaining: 1m 2s\n",
      "181:\tlearn: 0.3715459\ttotal: 9m 58s\tremaining: 59.2s\n",
      "182:\tlearn: 0.3713881\ttotal: 10m 1s\tremaining: 55.9s\n",
      "183:\tlearn: 0.3713305\ttotal: 10m 4s\tremaining: 52.6s\n",
      "184:\tlearn: 0.3712839\ttotal: 10m 8s\tremaining: 49.3s\n",
      "185:\tlearn: 0.3711988\ttotal: 10m 11s\tremaining: 46.1s\n",
      "186:\tlearn: 0.3711316\ttotal: 10m 15s\tremaining: 42.8s\n",
      "187:\tlearn: 0.3710718\ttotal: 10m 18s\tremaining: 39.5s\n",
      "188:\tlearn: 0.3709691\ttotal: 10m 21s\tremaining: 36.1s\n",
      "189:\tlearn: 0.3709387\ttotal: 10m 23s\tremaining: 32.8s\n",
      "190:\tlearn: 0.3708947\ttotal: 10m 27s\tremaining: 29.6s\n",
      "191:\tlearn: 0.3708594\ttotal: 10m 31s\tremaining: 26.3s\n",
      "192:\tlearn: 0.3708028\ttotal: 10m 34s\tremaining: 23s\n",
      "193:\tlearn: 0.3707404\ttotal: 10m 38s\tremaining: 19.7s\n",
      "194:\tlearn: 0.3706718\ttotal: 10m 40s\tremaining: 16.4s\n",
      "195:\tlearn: 0.3705475\ttotal: 10m 44s\tremaining: 13.1s\n",
      "196:\tlearn: 0.3704934\ttotal: 10m 47s\tremaining: 9.86s\n",
      "197:\tlearn: 0.3704225\ttotal: 10m 50s\tremaining: 6.57s\n",
      "198:\tlearn: 0.3703607\ttotal: 10m 52s\tremaining: 3.28s\n",
      "199:\tlearn: 0.3702990\ttotal: 10m 55s\tremaining: 0us\n",
      "2024-11-09 21:15:46,879 [recsys_experiments] [fit] - INFO: Fitted the ensemble model\n",
      "2024-11-09 21:15:46,881 [recsys_experiments] [save_pkl] - INFO: Model has been saved to /home/mle-user/mle_projects/recommendation_system_service/experiments/artifacts/modelling/ensemble/ensemble.pkl\n",
      "2024-11-09 21:15:46,882 [recsys_experiments] [fit] - INFO: Feature importances: {'users_per_item_last_7': 22.67670191918696, 'score_item2item': 16.9066189517386, 'days_since_user_first_interaction': 14.192373195336089, 'users_per_item': 13.615906930745842, 'days_since_item_first_interaction': 6.9147702612905055, 'score_bpr': 5.994331851631821, 'score_als': 5.947190134255019, 'items_per_user': 5.203117732967596, 'users_per_item_last_30': 3.0872509609702217, 'items_per_user_last_7': 2.5573632154310095, 'items_per_user_last_30': 1.1953990485130697, 'item_popularity': 1.1394439949462396, 'days_since_user_last_interaction': 0.49445433431702746, 'days_since_item_last_interaction': 0.07507746866999546}\n",
      "2024-11-09 21:15:46,885 [recsys_experiments] [save_yaml] - INFO: YAML file /home/mle-user/mle_projects/recommendation_system_service/experiments/artifacts/modelling/ensemble/feature_importances.yaml has been written successfully.\n",
      "2024-11-09 21:15:46,885 [recsys_experiments] [fit] - INFO: Saved feature importances\n"
     ]
    }
   ],
   "source": [
    "model.fit()"
   ]
  },
  {
   "cell_type": "code",
   "execution_count": 5,
   "id": "7df18441",
   "metadata": {},
   "outputs": [
    {
     "name": "stdout",
     "output_type": "stream",
     "text": [
      "2024-11-09 21:16:36,672 [recsys_experiments] [recommend] - INFO: Read test data\n",
      "2024-11-09 21:16:36,675 [recsys_experiments] [read_pkl] - INFO: Model /home/mle-user/mle_projects/recommendation_system_service/experiments/artifacts/modelling/ensemble/ensemble.pkl has been loaded\n",
      "2024-11-09 21:16:42,884 [recsys_experiments] [recommend] - INFO: Ranked recommendations on the test data\n",
      "2024-11-09 21:17:06,007 [recsys_experiments] [recommend] - INFO: Left only top 10 recommendations\n",
      "2024-11-09 21:17:07,002 [recsys_experiments] [recommend] - INFO: Saved recommendations\n"
     ]
    }
   ],
   "source": [
    "model.recommend()"
   ]
  },
  {
   "cell_type": "code",
   "execution_count": 6,
   "id": "1d4baacd",
   "metadata": {},
   "outputs": [
    {
     "data": {
      "application/vnd.jupyter.widget-view+json": {
       "model_id": "552829f27d0e4d569ea724bb7b3d7fbe",
       "version_major": 2,
       "version_minor": 0
      },
      "text/plain": [
       "Evaluating recommendations:   0%|          | 0/606174 [00:00<?, ?it/s]"
      ]
     },
     "metadata": {},
     "output_type": "display_data"
    },
    {
     "name": "stdout",
     "output_type": "stream",
     "text": [
      "2024-11-09 21:18:21,903 [recsys_experiments] [evaluate_recommendations] - INFO: Metrics for K=10: {'Precision10': 0.010613385678596451, 'Recall10': 0.031923256127282876, 'NDCG10': 0.026229349375029812, 'CoverageItem10': 0.1766694433996442, 'CoverageUser10': 0.9438742011369673}\n",
      "2024-11-09 21:18:21,985 [recsys_experiments] [save_yaml] - INFO: YAML file /home/mle-user/mle_projects/recommendation_system_service/experiments/artifacts/modelling/ensemble/metrics.yaml has been written successfully.\n"
     ]
    }
   ],
   "source": [
    "model.evaluate()"
   ]
  },
  {
   "cell_type": "code",
   "execution_count": 7,
   "id": "e38c1f27",
   "metadata": {},
   "outputs": [
    {
     "name": "stdout",
     "output_type": "stream",
     "text": [
      "2024-11-09 21:19:00,758 [recsys_experiments] [get_experiment_id] - INFO: Experiment 'recsys_yandex_music' exists\n",
      "2024-11-09 21:19:05,179 [recsys_experiments] [read_yaml] - INFO: YAML file /home/mle-user/mle_projects/recommendation_system_service/experiments/artifacts/modelling/ensemble/metrics.yaml has been loaded\n"
     ]
    },
    {
     "name": "stderr",
     "output_type": "stream",
     "text": [
      "2024/11/09 21:19:05 INFO mlflow.tracking._tracking_service.client: 🏃 View run ranking_model at: http://127.0.0.1:5000/#/experiments/15/runs/8ed26e5d3cad458ea2e12d003bf91215.\n",
      "2024/11/09 21:19:05 INFO mlflow.tracking._tracking_service.client: 🧪 View experiment at: http://127.0.0.1:5000/#/experiments/15.\n"
     ]
    }
   ],
   "source": [
    "model.log()"
   ]
  },
  {
   "cell_type": "code",
   "execution_count": null,
   "id": "fbac5739",
   "metadata": {},
   "outputs": [
    {
     "ename": "",
     "evalue": "",
     "output_type": "error",
     "traceback": [
      "\u001b[1;31mThe Kernel crashed while executing code in the current cell or a previous cell. \n",
      "\u001b[1;31mPlease review the code in the cell(s) to identify a possible cause of the failure. \n",
      "\u001b[1;31mClick <a href='https://aka.ms/vscodeJupyterKernelCrash'>here</a> for more info. \n",
      "\u001b[1;31mView Jupyter <a href='command:jupyter.viewOutput'>log</a> for further details."
     ]
    }
   ],
   "source": [
    "exit(0)"
   ]
  },
  {
   "cell_type": "markdown",
   "id": "46280d51",
   "metadata": {},
   "source": [
    "## <p style=\"color: #999900;\"> 3. Models comparison </p>"
   ]
  },
  {
   "cell_type": "markdown",
   "id": "0fb39d9f",
   "metadata": {},
   "source": [
    "Let's collect all metrics that were obtained for base models and the final model + feature importance values"
   ]
  },
  {
   "cell_type": "code",
   "execution_count": 8,
   "id": "9d3e14d8",
   "metadata": {},
   "outputs": [
    {
     "name": "stdout",
     "output_type": "stream",
     "text": [
      "2024-11-09 21:19:23,083 [recsys_experiments] [read_yaml] - INFO: YAML file /home/mle-user/mle_projects/recommendation_system_service/experiments/artifacts/modelling/ensemble/feature_importances.yaml has been loaded\n"
     ]
    }
   ],
   "source": [
    "importances = read_yaml(Path(model.config.destination_path, model.config.feature_importances_filename))"
   ]
  },
  {
   "cell_type": "code",
   "execution_count": 9,
   "id": "7d57befb",
   "metadata": {},
   "outputs": [
    {
     "name": "stdout",
     "output_type": "stream",
     "text": [
      "2024-11-09 21:19:26,476 [recsys_experiments] [read_yaml] - INFO: YAML file /home/mle-user/mle_projects/recommendation_system_service/experiments/config/components.yaml has been loaded\n",
      "2024-11-09 21:19:26,489 [recsys_experiments] [get_experiment_id] - INFO: Experiment 'recsys_yandex_music' exists\n"
     ]
    }
   ],
   "source": [
    "df = get_runs_data()\n",
    "df = df[['tags.mlflow.runName'] + [k for k in df.columns if k.startswith('metrics')]].iloc[:5]\n",
    "df.columns = ['Model'] + [k.replace('metrics.', '') for k in df.columns if k.startswith('metrics')]"
   ]
  },
  {
   "cell_type": "code",
   "execution_count": 10,
   "id": "7b259f3b",
   "metadata": {},
   "outputs": [
    {
     "data": {
      "image/png": "[encoded data removed]",
      "text/plain": [
       "<Figure size 1000x600 with 1 Axes>"
      ]
     },
     "metadata": {},
     "output_type": "display_data"
    }
   ],
   "source": [
    "plt.figure(figsize=(10, 6))\n",
    "sns.barplot(x=importances.values(), y=importances.keys(), palette=\"viridis\")\n",
    "plt.title('Feature Importance')\n",
    "plt.show()"
   ]
  },
  {
   "cell_type": "markdown",
   "id": "2e9c3182",
   "metadata": {},
   "source": [
    "1. Top 4 most important features are almost all not even connected to the scores from base models:\n",
    "- item popularity at the last 7 days\n",
    "- days since the first activity of the user\n",
    "- overall item popularity\n",
    "\n",
    "2. Base models scores have a medium importance overall, except for the item2item score which has a high importance.\n",
    "\n",
    "3. The following features were the least important:\n",
    "- days since the last activity of the user\n",
    "- days since the last time the track was played by a new user"
   ]
  },
  {
   "cell_type": "code",
   "execution_count": 11,
   "id": "fff09f10",
   "metadata": {},
   "outputs": [
    {
     "data": {
      "image/png": "[encoded data removed]",
      "text/plain": [
       "<Figure size 1000x1000 with 5 Axes>"
      ]
     },
     "metadata": {},
     "output_type": "display_data"
    }
   ],
   "source": [
    "metrics = list(df.columns[1:])\n",
    "\n",
    "fig, axes = plt.subplots(nrows=len(metrics), ncols=1, figsize=(10, 2 * len(metrics)))\n",
    "\n",
    "if len(metrics) == 1:\n",
    "    axes = [axes]\n",
    "\n",
    "# Iterate over metrics and create a horizontal bar plot for each\n",
    "for ax, metric in zip(axes, metrics):\n",
    "    sns.barplot(x=metric, y='Model', data=df, ax=ax, palette=\"viridis\")\n",
    "    ax.set_xlabel('', fontsize=14)\n",
    "    ax.set_ylabel('', fontsize=14)\n",
    "    ax.set_title(metric, fontsize=16)\n",
    "    ax.tick_params(axis='both', which='major', labelsize=12)\n",
    "\n",
    "plt.tight_layout()\n",
    "plt.show()"
   ]
  },
  {
   "cell_type": "code",
   "execution_count": 12,
   "id": "49edfacf",
   "metadata": {},
   "outputs": [
    {
     "data": {
      "text/html": [
       "<div>\n",
       "<style scoped>\n",
       "    .dataframe tbody tr th:only-of-type {\n",
       "        vertical-align: middle;\n",
       "    }\n",
       "\n",
       "    .dataframe tbody tr th {\n",
       "        vertical-align: top;\n",
       "    }\n",
       "\n",
       "    .dataframe thead th {\n",
       "        text-align: right;\n",
       "    }\n",
       "</style>\n",
       "<table border=\"1\" class=\"dataframe\">\n",
       "  <thead>\n",
       "    <tr style=\"text-align: right;\">\n",
       "      <th></th>\n",
       "      <th>Model</th>\n",
       "      <th>Recall10</th>\n",
       "      <th>CoverageItem10</th>\n",
       "      <th>NDCG10</th>\n",
       "      <th>CoverageUser10</th>\n",
       "      <th>Precision10</th>\n",
       "    </tr>\n",
       "  </thead>\n",
       "  <tbody>\n",
       "    <tr>\n",
       "      <th>0</th>\n",
       "      <td>ranking_model</td>\n",
       "      <td>0.031923</td>\n",
       "      <td>0.176669</td>\n",
       "      <td>0.026229</td>\n",
       "      <td>0.943874</td>\n",
       "      <td>0.010613</td>\n",
       "    </tr>\n",
       "    <tr>\n",
       "      <th>1</th>\n",
       "      <td>top_items</td>\n",
       "      <td>0.003685</td>\n",
       "      <td>0.000023</td>\n",
       "      <td>0.004624</td>\n",
       "      <td>1.000000</td>\n",
       "      <td>0.003107</td>\n",
       "    </tr>\n",
       "    <tr>\n",
       "      <th>2</th>\n",
       "      <td>base_model_item2item</td>\n",
       "      <td>0.000494</td>\n",
       "      <td>0.075743</td>\n",
       "      <td>0.000552</td>\n",
       "      <td>0.938064</td>\n",
       "      <td>0.000432</td>\n",
       "    </tr>\n",
       "    <tr>\n",
       "      <th>3</th>\n",
       "      <td>base_model_bpr</td>\n",
       "      <td>0.021092</td>\n",
       "      <td>0.200031</td>\n",
       "      <td>0.014425</td>\n",
       "      <td>0.943874</td>\n",
       "      <td>0.006120</td>\n",
       "    </tr>\n",
       "    <tr>\n",
       "      <th>4</th>\n",
       "      <td>base_model_als</td>\n",
       "      <td>0.018210</td>\n",
       "      <td>0.019404</td>\n",
       "      <td>0.012176</td>\n",
       "      <td>0.943874</td>\n",
       "      <td>0.005765</td>\n",
       "    </tr>\n",
       "  </tbody>\n",
       "</table>\n",
       "</div>"
      ],
      "text/plain": [
       "                  Model  Recall10  CoverageItem10    NDCG10  CoverageUser10  \\\n",
       "0         ranking_model  0.031923        0.176669  0.026229        0.943874   \n",
       "1             top_items  0.003685        0.000023  0.004624        1.000000   \n",
       "2  base_model_item2item  0.000494        0.075743  0.000552        0.938064   \n",
       "3        base_model_bpr  0.021092        0.200031  0.014425        0.943874   \n",
       "4        base_model_als  0.018210        0.019404  0.012176        0.943874   \n",
       "\n",
       "   Precision10  \n",
       "0     0.010613  \n",
       "1     0.003107  \n",
       "2     0.000432  \n",
       "3     0.006120  \n",
       "4     0.005765  "
      ]
     },
     "execution_count": 12,
     "metadata": {},
     "output_type": "execute_result"
    }
   ],
   "source": [
    "df"
   ]
  },
  {
   "cell_type": "markdown",
   "id": "9e53db68",
   "metadata": {},
   "source": [
    "Ensemble ranking model significantly improves the performance of the recommendation system comparing to base models achieving\n",
    "- `Precision@10`: 1.1% (5% - 20% for good models)\n",
    "- `Recall@10`: 3.2% (1% - 10% for good models)\n",
    "- `NDCG@10`: 2.6% (10% - 50% for good models)\n",
    "\n",
    "while preserving a high rate of the coverage metrics:\n",
    "- `CoverageItem@10`: 17.7%\n",
    "- `CoverageUser@10`: 94.4%\n",
    "\n",
    "`Novelty` metric is equal to 1 by default since only new items are recommended by all models except for model that suggests popular items - in this case the `Novelty` is surely less than 1.\n",
    "\n",
    "It is clear, that the quality of the recommendations is not that great according to `Precision@10` - the model is not good enough at recommending relevant items to users, although it is not bad at detecting relevant items according to `Recall@10`.\n",
    "To be fair, almost all users were considered - some of them might have very small number of interactions or very big number of interactions - such users might decrease the quality of the recommendations. As for items, it might be better to increase the cut-off value for the number of interactions so that more unpopular items are removed\n",
    "\n",
    "\n",
    "Speaking of the item-popularity based recommendations, their quality is not that low - item2item model provided even poorer results, though the corresponding feature importance is very high\n",
    "\n",
    "\n",
    "All in all, the following steps can be made to improve the quality of the recommendations:\n",
    "- increase the cut-off value for the number of interactions per item so that more unpopular items are removed\n",
    "- consider a cut-off value for the number of interactions per user so that users with low activity are removed\n",
    "- consider tuning base models and the ensemble ranking model\n",
    "- consider more user and item features for the ensemble ranking model\n",
    "- consider more base models"
   ]
  }
 ],
 "metadata": {
  "kernelspec": {
   "display_name": "venv_rss",
   "language": "python",
   "name": "python3"
  },
  "language_info": {
   "codemirror_mode": {
    "name": "ipython",
    "version": 3
   },
   "file_extension": ".py",
   "mimetype": "text/x-python",
   "name": "python",
   "nbconvert_exporter": "python",
   "pygments_lexer": "ipython3",
   "version": "3.10.15"
  }
 },
 "nbformat": 4,
 "nbformat_minor": 5
}
